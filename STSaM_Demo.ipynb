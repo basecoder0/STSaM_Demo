{
  "nbformat": 4,
  "nbformat_minor": 0,
  "metadata": {
    "colab": {
      "name": "STSaM_FinalResults_lab3.ipynb",
      "provenance": []
    },
    "kernelspec": {
      "name": "python3",
      "display_name": "Python 3"
    },
    "language_info": {
      "name": "python"
    }
  },
  "cells": [
    {
      "cell_type": "code",
      "metadata": {
        "colab": {
          "base_uri": "https://localhost:8080/"
        },
        "id": "bKwEvig7z9sy",
        "outputId": "fd00c921-e18e-4bc3-83eb-ae2bf6c8a3af"
      },
      "source": [
        "from google.colab import drive\n",
        "drive.mount('/content/drive')"
      ],
      "execution_count": 1,
      "outputs": [
        {
          "output_type": "stream",
          "text": [
            "Mounted at /content/drive\n"
          ],
          "name": "stdout"
        }
      ]
    },
    {
      "cell_type": "code",
      "metadata": {
        "id": "-u0WqrP90FJt"
      },
      "source": [
        "import librosa\n",
        "import librosa.display\n",
        "import numpy as np\n",
        "import matplotlib.pyplot as plt\n",
        "import tensorflow as tf\n",
        "from matplotlib.pyplot import specgram\n",
        "import keras\n",
        "import random\n",
        "import re\n",
        "import pandas as pd\n",
        "\n",
        "from sklearn.model_selection import train_test_split\n",
        "from sklearn.utils import shuffle\n",
        "from keras.utils import np_utils\n",
        "from sklearn.preprocessing import LabelEncoder\n",
        "from keras.preprocessing import sequence\n",
        "from keras.models import Sequential\n",
        "from keras.layers import Dense, Embedding\n",
        "from keras.layers import LSTM\n",
        "from keras.preprocessing.text import Tokenizer\n",
        "from keras.preprocessing.sequence import pad_sequences\n",
        "from keras.utils import to_categorical\n",
        "from keras.layers import Input, Flatten, Dropout, Activation\n",
        "from keras.layers import Conv1D, MaxPooling1D, AveragePooling1D, Bidirectional, MaxPool1D, concatenate\n",
        "from keras.models import Model\n",
        "from keras.callbacks import ModelCheckpoint\n",
        "from sklearn.metrics import confusion_matrix\n",
        "from tensorflow.keras.optimizers import Adam, SGD, RMSprop, schedules\n",
        "\n",
        "from keras import regularizers\n",
        "import os\n",
        "import glob"
      ],
      "execution_count": 2,
      "outputs": []
    },
    {
      "cell_type": "code",
      "metadata": {
        "id": "qjKLX_sJ0LFl"
      },
      "source": [
        "# Extract audio files to tmp folder\n",
        "!unzip '/content/drive/MyDrive/Deep Learning Alg/Final Proj/RAVDESS_data_emotion.zip' -d '/tmp/Audio_RAVDESS'\n",
        "!unzip '/content/drive/MyDrive/Deep Learning Alg/Final Proj/RAVDESS_data_emotion_Songs.zip' -d '/tmp/Audio_RAVDESS_Songs'\n",
        "!unzip '/content/drive/MyDrive/Deep Learning Alg/Final Proj/SAVEE_data_emotion.zip' -d '/tmp/SAVEE_AudioData'"
      ],
      "execution_count": null,
      "outputs": []
    },
    {
      "cell_type": "code",
      "metadata": {
        "id": "0-swBVw_0vlt"
      },
      "source": [
        "PATH = [\"/tmp/Audio_RAVDESS/data/Actor_*/*.wav\", '/tmp/Audio_RAVDESS_Songs/Actor_*/*.wav',\"/tmp/SAVEE_AudioData/AudioData/*/*.wav\"]\n",
        "mylist=[]\n",
        "mylist_paths=[]\n",
        "for p in range(len(PATH)):\n",
        "    print('Pulling Files from dir : ' + PATH[p])     \n",
        "    for file in glob.glob(PATH[p]):           \n",
        "        mylist.append(file)   \n",
        "\n",
        "for index, y in enumerate(mylist):\n",
        "   mylist_paths.append(y)"
      ],
      "execution_count": null,
      "outputs": []
    },
    {
      "cell_type": "markdown",
      "metadata": {
        "id": "ko5dRA-vZ07s"
      },
      "source": [
        "# Setting up Labels"
      ]
    },
    {
      "cell_type": "code",
      "metadata": {
        "id": "15t24uypZ7XW"
      },
      "source": [
        "RAVDESS_Emo = {\n",
        "    '03':'happy',\n",
        "    '04':'sad'\n",
        "}\n",
        "\n",
        "SAVEE_Emo = {\n",
        "    'h':'happy',\n",
        "    'sa':'sad'\n",
        "}\n",
        "\n",
        "feeling_list=[]\n",
        "\n",
        "for item in range(len(mylist_paths)):\n",
        "  if 'RAVDESS' in mylist_paths[item]:  \n",
        "    for file in glob.glob(mylist_paths[item]):\n",
        "        basename = os.path.basename(file)\n",
        "        emotion = basename.split(\"-\")[2]         \n",
        "        if emotion in RAVDESS_Emo:\n",
        "            if emotion == '03':\n",
        "                 feeling_list.append(RAVDESS_Emo.get(emotion))\n",
        "            elif emotion == '04':\n",
        "                feeling_list.append(RAVDESS_Emo.get(emotion))    \n",
        "     \n",
        "\n",
        "  if 'SAVEE' in mylist_paths[item]:  \n",
        "    for file in glob.glob(mylist_paths[item]):              \n",
        "        file_components = file.split('/')\n",
        "        file_name = file_components[-1].split('.')\n",
        "        emotion_code = re.sub('\\d','',file_name[0])  \n",
        "        if  emotion_code in SAVEE_Emo:\n",
        "            if emotion_code == 'h':\n",
        "                 feeling_list.append(SAVEE_Emo.get(emotion_code)) \n",
        "            elif emotion_code == 'sa':\n",
        "                 feeling_list.append(SAVEE_Emo.get(emotion_code))\n",
        "           "
      ],
      "execution_count": 6,
      "outputs": []
    },
    {
      "cell_type": "markdown",
      "metadata": {
        "id": "jQCEp7faejAu"
      },
      "source": [
        "Sanity Check Labels"
      ]
    },
    {
      "cell_type": "code",
      "metadata": {
        "collapsed": true,
        "id": "I15B0AJjejAw"
      },
      "source": [
        "labels = pd.DataFrame(feeling_list, columns=['labels'])"
      ],
      "execution_count": 7,
      "outputs": []
    },
    {
      "cell_type": "code",
      "metadata": {
        "colab": {
          "base_uri": "https://localhost:8080/"
        },
        "id": "S6GElMQcejAw",
        "outputId": "72ca3bee-8bd4-4833-a27e-654153ea297d"
      },
      "source": [
        "y = set(feeling_list)\n",
        "y"
      ],
      "execution_count": 8,
      "outputs": [
        {
          "output_type": "execute_result",
          "data": {
            "text/plain": [
              "{'happy', 'sad'}"
            ]
          },
          "metadata": {
            "tags": []
          },
          "execution_count": 8
        }
      ]
    },
    {
      "cell_type": "code",
      "metadata": {
        "scrolled": true,
        "colab": {
          "base_uri": "https://localhost:8080/",
          "height": 0
        },
        "id": "YKxt2ODcejAx",
        "outputId": "e0675ab9-1dab-4402-e5a2-c90be0f90906"
      },
      "source": [
        "labels[:10]"
      ],
      "execution_count": 9,
      "outputs": [
        {
          "output_type": "execute_result",
          "data": {
            "text/html": [
              "<div>\n",
              "<style scoped>\n",
              "    .dataframe tbody tr th:only-of-type {\n",
              "        vertical-align: middle;\n",
              "    }\n",
              "\n",
              "    .dataframe tbody tr th {\n",
              "        vertical-align: top;\n",
              "    }\n",
              "\n",
              "    .dataframe thead th {\n",
              "        text-align: right;\n",
              "    }\n",
              "</style>\n",
              "<table border=\"1\" class=\"dataframe\">\n",
              "  <thead>\n",
              "    <tr style=\"text-align: right;\">\n",
              "      <th></th>\n",
              "      <th>labels</th>\n",
              "    </tr>\n",
              "  </thead>\n",
              "  <tbody>\n",
              "    <tr>\n",
              "      <th>0</th>\n",
              "      <td>sad</td>\n",
              "    </tr>\n",
              "    <tr>\n",
              "      <th>1</th>\n",
              "      <td>sad</td>\n",
              "    </tr>\n",
              "    <tr>\n",
              "      <th>2</th>\n",
              "      <td>happy</td>\n",
              "    </tr>\n",
              "    <tr>\n",
              "      <th>3</th>\n",
              "      <td>happy</td>\n",
              "    </tr>\n",
              "    <tr>\n",
              "      <th>4</th>\n",
              "      <td>sad</td>\n",
              "    </tr>\n",
              "    <tr>\n",
              "      <th>5</th>\n",
              "      <td>happy</td>\n",
              "    </tr>\n",
              "    <tr>\n",
              "      <th>6</th>\n",
              "      <td>sad</td>\n",
              "    </tr>\n",
              "    <tr>\n",
              "      <th>7</th>\n",
              "      <td>happy</td>\n",
              "    </tr>\n",
              "    <tr>\n",
              "      <th>8</th>\n",
              "      <td>sad</td>\n",
              "    </tr>\n",
              "    <tr>\n",
              "      <th>9</th>\n",
              "      <td>happy</td>\n",
              "    </tr>\n",
              "  </tbody>\n",
              "</table>\n",
              "</div>"
            ],
            "text/plain": [
              "  labels\n",
              "0    sad\n",
              "1    sad\n",
              "2  happy\n",
              "3  happy\n",
              "4    sad\n",
              "5  happy\n",
              "6    sad\n",
              "7  happy\n",
              "8    sad\n",
              "9  happy"
            ]
          },
          "metadata": {
            "tags": []
          },
          "execution_count": 9
        }
      ]
    },
    {
      "cell_type": "markdown",
      "metadata": {
        "id": "XPviTzkoBxzL"
      },
      "source": [
        "# Getting the features of audio files using librosa"
      ]
    },
    {
      "cell_type": "code",
      "metadata": {
        "collapsed": true,
        "id": "zWjDAXoRBxzL"
      },
      "source": [
        "RAVDESS_Emo = {\n",
        "    '01',\n",
        "    '02',\n",
        "    '05',\n",
        "    '06',\n",
        "    '07',\n",
        "    '08'\n",
        "}\n",
        "\n",
        "\n",
        "SAVEE_Emo = {\n",
        "    'a',\n",
        "    'c',\n",
        "    'f',    \n",
        "    'n',  \n",
        "    'd',\n",
        "    'su',\n",
        "}\n",
        "\n",
        "df = pd.DataFrame(columns=['feature'])\n",
        "bookmark=0\n",
        "for index,y in enumerate(mylist_paths):\n",
        "    if 'RAVDESS' in mylist_paths[index]:      \n",
        "       for file in glob.glob(mylist_paths[index]):\n",
        "          basename = os.path.basename(file)\n",
        "          emotion = basename.split(\"-\")[2]            \n",
        "          if emotion not in RAVDESS_Emo: \n",
        "                X, sample_rate = librosa.load(y, res_type='kaiser_fast',duration=2.5,sr=22050*2,offset=0.5)\n",
        "                sample_rate = np.array(sample_rate)\n",
        "                mfccs = np.mean(librosa.feature.mfcc(y=X, \n",
        "                                                    sr=sample_rate, \n",
        "                                                    n_mfcc=13),\n",
        "                                axis=0)\n",
        "                feature = mfccs\n",
        "                #[float(i) for i in feature]\n",
        "                #feature1=feature[:135]\n",
        "                df.loc[bookmark] = [feature]\n",
        "                bookmark=bookmark+1   \n",
        "          \n",
        "\n",
        "    if 'SAVEE' in mylist_paths[index]:\n",
        "        for file in glob.glob(mylist_paths[index]):              \n",
        "              file_components = file.split('/')\n",
        "              file_name = file_components[-1].split('.')\n",
        "              emotion_code = re.sub('\\d','',file_name[0])        \n",
        "              if emotion_code not in SAVEE_Emo:   \n",
        "                  X, sample_rate = librosa.load(y, res_type='kaiser_fast',duration=2.5,sr=22050*2,offset=0.5)\n",
        "                  sample_rate = np.array(sample_rate)\n",
        "                  mfccs = np.mean(librosa.feature.mfcc(y=X, \n",
        "                                                      sr=sample_rate, \n",
        "                                                      n_mfcc=13),\n",
        "                                  axis=0)\n",
        "                  feature = mfccs\n",
        "                  #[float(i) for i in feature]\n",
        "                  #feature1=feature[:135]\n",
        "                  df.loc[bookmark] = [feature]\n",
        "                  bookmark=bookmark+1       "
      ],
      "execution_count": 27,
      "outputs": []
    },
    {
      "cell_type": "markdown",
      "metadata": {
        "id": "vP7ua-z51kd_"
      },
      "source": [
        "Sanity check extracted features "
      ]
    },
    {
      "cell_type": "code",
      "metadata": {
        "id": "rGmne5mjBxzM",
        "colab": {
          "base_uri": "https://localhost:8080/",
          "height": 204
        },
        "outputId": "5065f041-fec3-49b8-b0e6-3d8a899df91d"
      },
      "source": [
        "df[:5]"
      ],
      "execution_count": 28,
      "outputs": [
        {
          "output_type": "execute_result",
          "data": {
            "text/html": [
              "<div>\n",
              "<style scoped>\n",
              "    .dataframe tbody tr th:only-of-type {\n",
              "        vertical-align: middle;\n",
              "    }\n",
              "\n",
              "    .dataframe tbody tr th {\n",
              "        vertical-align: top;\n",
              "    }\n",
              "\n",
              "    .dataframe thead th {\n",
              "        text-align: right;\n",
              "    }\n",
              "</style>\n",
              "<table border=\"1\" class=\"dataframe\">\n",
              "  <thead>\n",
              "    <tr style=\"text-align: right;\">\n",
              "      <th></th>\n",
              "      <th>feature</th>\n",
              "    </tr>\n",
              "  </thead>\n",
              "  <tbody>\n",
              "    <tr>\n",
              "      <th>0</th>\n",
              "      <td>[-52.01556, -53.926857, -55.110825, -53.355915...</td>\n",
              "    </tr>\n",
              "    <tr>\n",
              "      <th>1</th>\n",
              "      <td>[-55.158813, -52.792152, -52.665127, -52.97408...</td>\n",
              "    </tr>\n",
              "    <tr>\n",
              "      <th>2</th>\n",
              "      <td>[-51.307365, -51.045193, -52.16156, -48.928867...</td>\n",
              "    </tr>\n",
              "    <tr>\n",
              "      <th>3</th>\n",
              "      <td>[-41.22146, -41.22146, -41.126522, -41.22146, ...</td>\n",
              "    </tr>\n",
              "    <tr>\n",
              "      <th>4</th>\n",
              "      <td>[-49.759026, -47.63607, -46.94962, -48.07526, ...</td>\n",
              "    </tr>\n",
              "  </tbody>\n",
              "</table>\n",
              "</div>"
            ],
            "text/plain": [
              "                                             feature\n",
              "0  [-52.01556, -53.926857, -55.110825, -53.355915...\n",
              "1  [-55.158813, -52.792152, -52.665127, -52.97408...\n",
              "2  [-51.307365, -51.045193, -52.16156, -48.928867...\n",
              "3  [-41.22146, -41.22146, -41.126522, -41.22146, ...\n",
              "4  [-49.759026, -47.63607, -46.94962, -48.07526, ..."
            ]
          },
          "metadata": {
            "tags": []
          },
          "execution_count": 28
        }
      ]
    },
    {
      "cell_type": "code",
      "metadata": {
        "collapsed": true,
        "id": "xK_HoTMIBxzM"
      },
      "source": [
        "df3 = pd.DataFrame(df['feature'].values.tolist())\n",
        "df3 = df3.fillna(0)"
      ],
      "execution_count": 29,
      "outputs": []
    },
    {
      "cell_type": "code",
      "metadata": {
        "colab": {
          "base_uri": "https://localhost:8080/",
          "height": 253
        },
        "id": "PsG4myr7QVDn",
        "outputId": "c36df2bd-85dc-4c5a-900a-04102855e33e"
      },
      "source": [
        "df3[:5]"
      ],
      "execution_count": 30,
      "outputs": [
        {
          "output_type": "execute_result",
          "data": {
            "text/html": [
              "<div>\n",
              "<style scoped>\n",
              "    .dataframe tbody tr th:only-of-type {\n",
              "        vertical-align: middle;\n",
              "    }\n",
              "\n",
              "    .dataframe tbody tr th {\n",
              "        vertical-align: top;\n",
              "    }\n",
              "\n",
              "    .dataframe thead th {\n",
              "        text-align: right;\n",
              "    }\n",
              "</style>\n",
              "<table border=\"1\" class=\"dataframe\">\n",
              "  <thead>\n",
              "    <tr style=\"text-align: right;\">\n",
              "      <th></th>\n",
              "      <th>0</th>\n",
              "      <th>1</th>\n",
              "      <th>2</th>\n",
              "      <th>3</th>\n",
              "      <th>4</th>\n",
              "      <th>5</th>\n",
              "      <th>6</th>\n",
              "      <th>7</th>\n",
              "      <th>8</th>\n",
              "      <th>9</th>\n",
              "      <th>10</th>\n",
              "      <th>11</th>\n",
              "      <th>12</th>\n",
              "      <th>13</th>\n",
              "      <th>14</th>\n",
              "      <th>15</th>\n",
              "      <th>16</th>\n",
              "      <th>17</th>\n",
              "      <th>18</th>\n",
              "      <th>19</th>\n",
              "      <th>20</th>\n",
              "      <th>21</th>\n",
              "      <th>22</th>\n",
              "      <th>23</th>\n",
              "      <th>24</th>\n",
              "      <th>25</th>\n",
              "      <th>26</th>\n",
              "      <th>27</th>\n",
              "      <th>28</th>\n",
              "      <th>29</th>\n",
              "      <th>30</th>\n",
              "      <th>31</th>\n",
              "      <th>32</th>\n",
              "      <th>33</th>\n",
              "      <th>34</th>\n",
              "      <th>35</th>\n",
              "      <th>36</th>\n",
              "      <th>37</th>\n",
              "      <th>38</th>\n",
              "      <th>39</th>\n",
              "      <th>...</th>\n",
              "      <th>176</th>\n",
              "      <th>177</th>\n",
              "      <th>178</th>\n",
              "      <th>179</th>\n",
              "      <th>180</th>\n",
              "      <th>181</th>\n",
              "      <th>182</th>\n",
              "      <th>183</th>\n",
              "      <th>184</th>\n",
              "      <th>185</th>\n",
              "      <th>186</th>\n",
              "      <th>187</th>\n",
              "      <th>188</th>\n",
              "      <th>189</th>\n",
              "      <th>190</th>\n",
              "      <th>191</th>\n",
              "      <th>192</th>\n",
              "      <th>193</th>\n",
              "      <th>194</th>\n",
              "      <th>195</th>\n",
              "      <th>196</th>\n",
              "      <th>197</th>\n",
              "      <th>198</th>\n",
              "      <th>199</th>\n",
              "      <th>200</th>\n",
              "      <th>201</th>\n",
              "      <th>202</th>\n",
              "      <th>203</th>\n",
              "      <th>204</th>\n",
              "      <th>205</th>\n",
              "      <th>206</th>\n",
              "      <th>207</th>\n",
              "      <th>208</th>\n",
              "      <th>209</th>\n",
              "      <th>210</th>\n",
              "      <th>211</th>\n",
              "      <th>212</th>\n",
              "      <th>213</th>\n",
              "      <th>214</th>\n",
              "      <th>215</th>\n",
              "    </tr>\n",
              "  </thead>\n",
              "  <tbody>\n",
              "    <tr>\n",
              "      <th>0</th>\n",
              "      <td>-52.015560</td>\n",
              "      <td>-53.926857</td>\n",
              "      <td>-55.110825</td>\n",
              "      <td>-53.355915</td>\n",
              "      <td>-52.040325</td>\n",
              "      <td>-49.672298</td>\n",
              "      <td>-49.241959</td>\n",
              "      <td>-52.012478</td>\n",
              "      <td>-53.579514</td>\n",
              "      <td>-50.573036</td>\n",
              "      <td>-49.471855</td>\n",
              "      <td>-51.367714</td>\n",
              "      <td>-52.232018</td>\n",
              "      <td>-54.462620</td>\n",
              "      <td>-55.838707</td>\n",
              "      <td>-57.235474</td>\n",
              "      <td>-55.562435</td>\n",
              "      <td>-55.120850</td>\n",
              "      <td>-54.064377</td>\n",
              "      <td>-54.143757</td>\n",
              "      <td>-54.567852</td>\n",
              "      <td>-53.837864</td>\n",
              "      <td>-52.962357</td>\n",
              "      <td>-54.040573</td>\n",
              "      <td>-55.627159</td>\n",
              "      <td>-56.008652</td>\n",
              "      <td>-54.077217</td>\n",
              "      <td>-53.454628</td>\n",
              "      <td>-52.737514</td>\n",
              "      <td>-53.558735</td>\n",
              "      <td>-54.311516</td>\n",
              "      <td>-52.079636</td>\n",
              "      <td>-52.049049</td>\n",
              "      <td>-51.275154</td>\n",
              "      <td>-46.978233</td>\n",
              "      <td>-41.998024</td>\n",
              "      <td>-43.466545</td>\n",
              "      <td>-40.963722</td>\n",
              "      <td>-38.218079</td>\n",
              "      <td>-37.587780</td>\n",
              "      <td>...</td>\n",
              "      <td>-48.159451</td>\n",
              "      <td>-47.816895</td>\n",
              "      <td>-48.394680</td>\n",
              "      <td>-49.938534</td>\n",
              "      <td>-50.981121</td>\n",
              "      <td>-49.747360</td>\n",
              "      <td>-50.013405</td>\n",
              "      <td>-48.893723</td>\n",
              "      <td>-48.023945</td>\n",
              "      <td>-50.757603</td>\n",
              "      <td>-52.036850</td>\n",
              "      <td>-51.126205</td>\n",
              "      <td>-52.521248</td>\n",
              "      <td>-55.364464</td>\n",
              "      <td>-52.297024</td>\n",
              "      <td>-49.091721</td>\n",
              "      <td>-46.470577</td>\n",
              "      <td>-47.519371</td>\n",
              "      <td>-51.314548</td>\n",
              "      <td>-52.921658</td>\n",
              "      <td>-52.269741</td>\n",
              "      <td>-50.403999</td>\n",
              "      <td>-52.134762</td>\n",
              "      <td>-52.546688</td>\n",
              "      <td>-49.469322</td>\n",
              "      <td>-47.856403</td>\n",
              "      <td>-48.843246</td>\n",
              "      <td>-49.341145</td>\n",
              "      <td>-51.087746</td>\n",
              "      <td>-52.256901</td>\n",
              "      <td>-52.028164</td>\n",
              "      <td>-50.795773</td>\n",
              "      <td>-52.250607</td>\n",
              "      <td>-51.284134</td>\n",
              "      <td>-51.056587</td>\n",
              "      <td>-51.108585</td>\n",
              "      <td>-50.111050</td>\n",
              "      <td>-50.283268</td>\n",
              "      <td>-51.438297</td>\n",
              "      <td>-52.828003</td>\n",
              "    </tr>\n",
              "    <tr>\n",
              "      <th>1</th>\n",
              "      <td>-55.158813</td>\n",
              "      <td>-52.792152</td>\n",
              "      <td>-52.665127</td>\n",
              "      <td>-52.974079</td>\n",
              "      <td>-54.078026</td>\n",
              "      <td>-55.675396</td>\n",
              "      <td>-53.966305</td>\n",
              "      <td>-51.444279</td>\n",
              "      <td>-49.399868</td>\n",
              "      <td>-48.839806</td>\n",
              "      <td>-47.274067</td>\n",
              "      <td>-48.332092</td>\n",
              "      <td>-50.031548</td>\n",
              "      <td>-50.187309</td>\n",
              "      <td>-52.522190</td>\n",
              "      <td>-52.298584</td>\n",
              "      <td>-48.250313</td>\n",
              "      <td>-47.975708</td>\n",
              "      <td>-50.194614</td>\n",
              "      <td>-49.388908</td>\n",
              "      <td>-49.481682</td>\n",
              "      <td>-49.059711</td>\n",
              "      <td>-51.000023</td>\n",
              "      <td>-50.693073</td>\n",
              "      <td>-50.951607</td>\n",
              "      <td>-53.357651</td>\n",
              "      <td>-57.236816</td>\n",
              "      <td>-54.451664</td>\n",
              "      <td>-54.460506</td>\n",
              "      <td>-54.093666</td>\n",
              "      <td>-52.967918</td>\n",
              "      <td>-55.632729</td>\n",
              "      <td>-54.024483</td>\n",
              "      <td>-53.305504</td>\n",
              "      <td>-53.828835</td>\n",
              "      <td>-50.354607</td>\n",
              "      <td>-48.019348</td>\n",
              "      <td>-47.913960</td>\n",
              "      <td>-48.407955</td>\n",
              "      <td>-50.582153</td>\n",
              "      <td>...</td>\n",
              "      <td>-30.523302</td>\n",
              "      <td>-24.875034</td>\n",
              "      <td>-25.472816</td>\n",
              "      <td>-29.080845</td>\n",
              "      <td>-30.982683</td>\n",
              "      <td>-32.810081</td>\n",
              "      <td>-32.350128</td>\n",
              "      <td>-33.780449</td>\n",
              "      <td>-34.134998</td>\n",
              "      <td>-33.618774</td>\n",
              "      <td>-32.432011</td>\n",
              "      <td>-32.634884</td>\n",
              "      <td>-32.607880</td>\n",
              "      <td>-33.287560</td>\n",
              "      <td>-34.713478</td>\n",
              "      <td>-35.797726</td>\n",
              "      <td>-37.907021</td>\n",
              "      <td>-33.550999</td>\n",
              "      <td>-29.819609</td>\n",
              "      <td>-29.289572</td>\n",
              "      <td>-30.098045</td>\n",
              "      <td>-31.905100</td>\n",
              "      <td>-34.133781</td>\n",
              "      <td>-35.257835</td>\n",
              "      <td>-37.778976</td>\n",
              "      <td>-39.228695</td>\n",
              "      <td>-38.756741</td>\n",
              "      <td>-39.621609</td>\n",
              "      <td>-40.489494</td>\n",
              "      <td>-39.291935</td>\n",
              "      <td>-41.066181</td>\n",
              "      <td>-44.088711</td>\n",
              "      <td>-43.914719</td>\n",
              "      <td>-43.892006</td>\n",
              "      <td>-46.027889</td>\n",
              "      <td>-47.563152</td>\n",
              "      <td>-47.620422</td>\n",
              "      <td>-50.008160</td>\n",
              "      <td>-48.566013</td>\n",
              "      <td>-52.263718</td>\n",
              "    </tr>\n",
              "    <tr>\n",
              "      <th>2</th>\n",
              "      <td>-51.307365</td>\n",
              "      <td>-51.045193</td>\n",
              "      <td>-52.161560</td>\n",
              "      <td>-48.928867</td>\n",
              "      <td>-48.199196</td>\n",
              "      <td>-49.030579</td>\n",
              "      <td>-50.739254</td>\n",
              "      <td>-51.606083</td>\n",
              "      <td>-51.465927</td>\n",
              "      <td>-51.132683</td>\n",
              "      <td>-49.016880</td>\n",
              "      <td>-48.402115</td>\n",
              "      <td>-49.765903</td>\n",
              "      <td>-50.425858</td>\n",
              "      <td>-49.024410</td>\n",
              "      <td>-49.980442</td>\n",
              "      <td>-51.109047</td>\n",
              "      <td>-50.009640</td>\n",
              "      <td>-49.089256</td>\n",
              "      <td>-48.830135</td>\n",
              "      <td>-49.177994</td>\n",
              "      <td>-49.812576</td>\n",
              "      <td>-48.221684</td>\n",
              "      <td>-49.115078</td>\n",
              "      <td>-48.085911</td>\n",
              "      <td>-48.974392</td>\n",
              "      <td>-50.336399</td>\n",
              "      <td>-49.589371</td>\n",
              "      <td>-47.116421</td>\n",
              "      <td>-50.239433</td>\n",
              "      <td>-51.727921</td>\n",
              "      <td>-51.717083</td>\n",
              "      <td>-52.020889</td>\n",
              "      <td>-51.231548</td>\n",
              "      <td>-47.894852</td>\n",
              "      <td>-46.017490</td>\n",
              "      <td>-46.081295</td>\n",
              "      <td>-45.963352</td>\n",
              "      <td>-46.379299</td>\n",
              "      <td>-45.884159</td>\n",
              "      <td>...</td>\n",
              "      <td>-45.443504</td>\n",
              "      <td>-45.926559</td>\n",
              "      <td>-49.608860</td>\n",
              "      <td>-47.827873</td>\n",
              "      <td>-46.823738</td>\n",
              "      <td>-46.093117</td>\n",
              "      <td>-45.408150</td>\n",
              "      <td>-45.827244</td>\n",
              "      <td>-44.855812</td>\n",
              "      <td>-45.884151</td>\n",
              "      <td>-47.547195</td>\n",
              "      <td>-45.036873</td>\n",
              "      <td>-44.336670</td>\n",
              "      <td>-46.241917</td>\n",
              "      <td>-47.417362</td>\n",
              "      <td>-47.169292</td>\n",
              "      <td>-48.414371</td>\n",
              "      <td>-49.380795</td>\n",
              "      <td>-47.456741</td>\n",
              "      <td>-48.351505</td>\n",
              "      <td>-46.081490</td>\n",
              "      <td>-45.445461</td>\n",
              "      <td>-45.421013</td>\n",
              "      <td>-47.001328</td>\n",
              "      <td>-45.927158</td>\n",
              "      <td>-44.851055</td>\n",
              "      <td>-45.672646</td>\n",
              "      <td>-47.419941</td>\n",
              "      <td>-47.058994</td>\n",
              "      <td>-45.835083</td>\n",
              "      <td>-46.833023</td>\n",
              "      <td>-46.321636</td>\n",
              "      <td>-47.316433</td>\n",
              "      <td>-47.622066</td>\n",
              "      <td>-48.562630</td>\n",
              "      <td>-50.442257</td>\n",
              "      <td>-49.990582</td>\n",
              "      <td>-47.865288</td>\n",
              "      <td>-46.450462</td>\n",
              "      <td>-45.670261</td>\n",
              "    </tr>\n",
              "    <tr>\n",
              "      <th>3</th>\n",
              "      <td>-41.221458</td>\n",
              "      <td>-41.221458</td>\n",
              "      <td>-41.126522</td>\n",
              "      <td>-41.221458</td>\n",
              "      <td>-41.221458</td>\n",
              "      <td>-41.221458</td>\n",
              "      <td>-41.221458</td>\n",
              "      <td>-41.221458</td>\n",
              "      <td>-40.726543</td>\n",
              "      <td>-41.221458</td>\n",
              "      <td>-41.221458</td>\n",
              "      <td>-41.221458</td>\n",
              "      <td>-41.221458</td>\n",
              "      <td>-41.221458</td>\n",
              "      <td>-41.221458</td>\n",
              "      <td>-41.221458</td>\n",
              "      <td>-41.221458</td>\n",
              "      <td>-41.221458</td>\n",
              "      <td>-41.221458</td>\n",
              "      <td>-41.221458</td>\n",
              "      <td>-41.221458</td>\n",
              "      <td>-40.861740</td>\n",
              "      <td>-40.063755</td>\n",
              "      <td>-41.221458</td>\n",
              "      <td>-41.221458</td>\n",
              "      <td>-41.207882</td>\n",
              "      <td>-41.221458</td>\n",
              "      <td>-41.221458</td>\n",
              "      <td>-41.221458</td>\n",
              "      <td>-41.103153</td>\n",
              "      <td>-40.289593</td>\n",
              "      <td>-40.433636</td>\n",
              "      <td>-41.221458</td>\n",
              "      <td>-40.718811</td>\n",
              "      <td>-40.572624</td>\n",
              "      <td>-41.221458</td>\n",
              "      <td>-41.221458</td>\n",
              "      <td>-40.909569</td>\n",
              "      <td>-41.221458</td>\n",
              "      <td>-41.221458</td>\n",
              "      <td>...</td>\n",
              "      <td>-28.875378</td>\n",
              "      <td>-29.739971</td>\n",
              "      <td>-31.622335</td>\n",
              "      <td>-32.597748</td>\n",
              "      <td>-33.202343</td>\n",
              "      <td>-34.573528</td>\n",
              "      <td>-35.114380</td>\n",
              "      <td>-33.294693</td>\n",
              "      <td>-35.275875</td>\n",
              "      <td>-37.637745</td>\n",
              "      <td>-37.540230</td>\n",
              "      <td>-38.392635</td>\n",
              "      <td>-39.359165</td>\n",
              "      <td>-38.782997</td>\n",
              "      <td>-36.560368</td>\n",
              "      <td>-37.722439</td>\n",
              "      <td>-37.198456</td>\n",
              "      <td>-32.661476</td>\n",
              "      <td>-26.391094</td>\n",
              "      <td>-22.757679</td>\n",
              "      <td>-20.738678</td>\n",
              "      <td>-23.188534</td>\n",
              "      <td>-25.555622</td>\n",
              "      <td>-25.177975</td>\n",
              "      <td>-26.508345</td>\n",
              "      <td>-26.001417</td>\n",
              "      <td>-26.231041</td>\n",
              "      <td>-27.977125</td>\n",
              "      <td>-31.714571</td>\n",
              "      <td>-30.523457</td>\n",
              "      <td>-31.140036</td>\n",
              "      <td>-32.166107</td>\n",
              "      <td>-35.480412</td>\n",
              "      <td>-34.864799</td>\n",
              "      <td>-32.722271</td>\n",
              "      <td>-34.464897</td>\n",
              "      <td>-34.459141</td>\n",
              "      <td>-35.890823</td>\n",
              "      <td>-31.993696</td>\n",
              "      <td>-25.662676</td>\n",
              "    </tr>\n",
              "    <tr>\n",
              "      <th>4</th>\n",
              "      <td>-49.759026</td>\n",
              "      <td>-47.636070</td>\n",
              "      <td>-46.949619</td>\n",
              "      <td>-48.075260</td>\n",
              "      <td>-48.023857</td>\n",
              "      <td>-49.006367</td>\n",
              "      <td>-52.525120</td>\n",
              "      <td>-53.639114</td>\n",
              "      <td>-50.583111</td>\n",
              "      <td>-50.311222</td>\n",
              "      <td>-51.017845</td>\n",
              "      <td>-52.012642</td>\n",
              "      <td>-50.916889</td>\n",
              "      <td>-49.275612</td>\n",
              "      <td>-49.059425</td>\n",
              "      <td>-51.285763</td>\n",
              "      <td>-51.112381</td>\n",
              "      <td>-48.893501</td>\n",
              "      <td>-49.888432</td>\n",
              "      <td>-51.929871</td>\n",
              "      <td>-52.802734</td>\n",
              "      <td>-49.905006</td>\n",
              "      <td>-49.548012</td>\n",
              "      <td>-50.804375</td>\n",
              "      <td>-50.816933</td>\n",
              "      <td>-51.014000</td>\n",
              "      <td>-49.292801</td>\n",
              "      <td>-48.549873</td>\n",
              "      <td>-52.112995</td>\n",
              "      <td>-52.875179</td>\n",
              "      <td>-51.498985</td>\n",
              "      <td>-52.179539</td>\n",
              "      <td>-51.573147</td>\n",
              "      <td>-52.349548</td>\n",
              "      <td>-53.423203</td>\n",
              "      <td>-54.528477</td>\n",
              "      <td>-53.876175</td>\n",
              "      <td>-52.252201</td>\n",
              "      <td>-52.562981</td>\n",
              "      <td>-52.310123</td>\n",
              "      <td>...</td>\n",
              "      <td>-34.073399</td>\n",
              "      <td>-33.816360</td>\n",
              "      <td>-34.909809</td>\n",
              "      <td>-36.545509</td>\n",
              "      <td>-38.628677</td>\n",
              "      <td>-39.340378</td>\n",
              "      <td>-40.588234</td>\n",
              "      <td>-40.327900</td>\n",
              "      <td>-41.370522</td>\n",
              "      <td>-41.526524</td>\n",
              "      <td>-42.655418</td>\n",
              "      <td>-43.721889</td>\n",
              "      <td>-47.268852</td>\n",
              "      <td>-47.392212</td>\n",
              "      <td>-46.977638</td>\n",
              "      <td>-45.589054</td>\n",
              "      <td>-45.409416</td>\n",
              "      <td>-43.831177</td>\n",
              "      <td>-46.150822</td>\n",
              "      <td>-49.061661</td>\n",
              "      <td>-48.964920</td>\n",
              "      <td>-48.133732</td>\n",
              "      <td>-47.546543</td>\n",
              "      <td>-48.188065</td>\n",
              "      <td>-49.590275</td>\n",
              "      <td>-49.343849</td>\n",
              "      <td>-47.188015</td>\n",
              "      <td>-47.325882</td>\n",
              "      <td>-46.811581</td>\n",
              "      <td>-47.755222</td>\n",
              "      <td>-47.396156</td>\n",
              "      <td>-48.256710</td>\n",
              "      <td>-48.734188</td>\n",
              "      <td>-48.270466</td>\n",
              "      <td>-51.874107</td>\n",
              "      <td>-52.327652</td>\n",
              "      <td>-51.170040</td>\n",
              "      <td>-50.925335</td>\n",
              "      <td>-51.911465</td>\n",
              "      <td>-52.937981</td>\n",
              "    </tr>\n",
              "  </tbody>\n",
              "</table>\n",
              "<p>5 rows × 216 columns</p>\n",
              "</div>"
            ],
            "text/plain": [
              "         0          1          2    ...        213        214        215\n",
              "0 -52.015560 -53.926857 -55.110825  ... -50.283268 -51.438297 -52.828003\n",
              "1 -55.158813 -52.792152 -52.665127  ... -50.008160 -48.566013 -52.263718\n",
              "2 -51.307365 -51.045193 -52.161560  ... -47.865288 -46.450462 -45.670261\n",
              "3 -41.221458 -41.221458 -41.126522  ... -35.890823 -31.993696 -25.662676\n",
              "4 -49.759026 -47.636070 -46.949619  ... -50.925335 -51.911465 -52.937981\n",
              "\n",
              "[5 rows x 216 columns]"
            ]
          },
          "metadata": {
            "tags": []
          },
          "execution_count": 30
        }
      ]
    },
    {
      "cell_type": "markdown",
      "metadata": {
        "id": "sLDfbAPe25Ux"
      },
      "source": [
        "# Matching the labels position in text w/ label position for audio"
      ]
    },
    {
      "cell_type": "code",
      "metadata": {
        "id": "lFq9T-zNhhuv",
        "colab": {
          "base_uri": "https://localhost:8080/"
        },
        "outputId": "ce210f75-80ab-4ca4-d6e3-5681c0917463"
      },
      "source": [
        "from keras.datasets import imdb\n",
        "\n",
        "(train_data, train_labels), (test_data, test_labels) = imdb.load_data(num_words=10000) #0-Negative 1-Positive"
      ],
      "execution_count": 14,
      "outputs": [
        {
          "output_type": "stream",
          "text": [
            "Downloading data from https://storage.googleapis.com/tensorflow/tf-keras-datasets/imdb.npz\n",
            "17465344/17464789 [==============================] - 0s 0us/step\n"
          ],
          "name": "stdout"
        },
        {
          "output_type": "stream",
          "text": [
            "<string>:6: VisibleDeprecationWarning: Creating an ndarray from ragged nested sequences (which is a list-or-tuple of lists-or-tuples-or ndarrays with different lengths or shapes) is deprecated. If you meant to do this, you must specify 'dtype=object' when creating the ndarray\n",
            "/usr/local/lib/python3.7/dist-packages/tensorflow/python/keras/datasets/imdb.py:159: VisibleDeprecationWarning: Creating an ndarray from ragged nested sequences (which is a list-or-tuple of lists-or-tuples-or ndarrays with different lengths or shapes) is deprecated. If you meant to do this, you must specify 'dtype=object' when creating the ndarray\n",
            "  x_train, y_train = np.array(xs[:idx]), np.array(labels[:idx])\n",
            "/usr/local/lib/python3.7/dist-packages/tensorflow/python/keras/datasets/imdb.py:160: VisibleDeprecationWarning: Creating an ndarray from ragged nested sequences (which is a list-or-tuple of lists-or-tuples-or ndarrays with different lengths or shapes) is deprecated. If you meant to do this, you must specify 'dtype=object' when creating the ndarray\n",
            "  x_test, y_test = np.array(xs[idx:]), np.array(labels[idx:])\n"
          ],
          "name": "stderr"
        }
      ]
    },
    {
      "cell_type": "code",
      "metadata": {
        "id": "KvX6ZxfLrTY3"
      },
      "source": [
        "def sort_shuffle_feats_and_labels(xfeat, xlbls, yfeat, ylbls):\n",
        "  \n",
        "    r = random.randint(0, yfeat.shape[0])    \n",
        "\n",
        "    # Scale sample size down to shape of yfeat and ylbls\n",
        "    xfeat = xfeat[ : yfeat.shape[0]]\n",
        "    xlbls = xlbls[: ylbls.shape[0]]   \n",
        "\n",
        "    # set text data / labels  to DF to sort in ascending order by label\n",
        "    xlbls = pd.DataFrame( xlbls, columns=['text_labels'])\n",
        "    xfeat = pd.DataFrame(xfeat, columns=['text_features'])\n",
        "    df_txt_lbls = pd.concat([xfeat , xlbls], axis=1)\n",
        "    df_txt_lbls = df_txt_lbls.sort_values(['text_labels'], ascending=True)\n",
        "    df_txt_lbls = df_txt_lbls.reset_index(drop=True)    \n",
        "\n",
        "    # set audio data / labels  to DF to sort in ascending order by label        \n",
        "    ylbls = encoded_labels(ylbls) \n",
        "    ylbls = pd.DataFrame(ylbls, columns=['audio_labels'])          \n",
        "    df_audio_feat_lbls = pd.concat([yfeat,  ylbls], axis=1)\n",
        "    df_audio_feat_lbls = df_audio_feat_lbls.sort_values(['audio_labels'], ascending=True)\n",
        "    df_audio_feat_lbls = df_audio_feat_lbls.reset_index(drop=True)   \n",
        "    \n",
        "    # shuffle dataframe on the same random state\n",
        "    df_txt_lbls = shuffle(df_txt_lbls, random_state=r)\n",
        "    df_audio_feat_lbls = shuffle(df_audio_feat_lbls, random_state=r) \n",
        "\n",
        "    # split dataframes into feature and label sets\n",
        "    X_train_txt =   df_txt_lbls.iloc[:,:-1]\n",
        "    y_train_txt =   df_txt_lbls.iloc[:,-1:]\n",
        "\n",
        "    X_train_audio = df_audio_feat_lbls.iloc[:,:-1]\n",
        "    y_train_audio = df_audio_feat_lbls.iloc[:,-1:]\n",
        "\n",
        "    # reshape text data / labels back to 1D tensor\n",
        "    X_train_txt = X_train_txt.values\n",
        "    X_train_txt = X_train_txt.reshape(X_train_txt.shape[0])\n",
        "\n",
        "    y_train_txt = y_train_txt.values\n",
        "    y_train_txt = y_train_txt.reshape(y_train_txt.shape[0])\n",
        "\n",
        "    return X_train_txt, y_train_txt ,X_train_audio,  y_train_audio     \n",
        "\n",
        "\n",
        "def encoded_labels(labels):\n",
        "      emotion_encoder = {\n",
        "      'sad':0,\n",
        "      'happy':1    \n",
        "    }\n",
        "      list_encoded = [ emotion_encoder.get(values[0]) for name, values  in labels.iterrows()]     \n",
        "      return list_encoded\n",
        "\n",
        "def decoded_labels(labels):\n",
        "      emotion_decoder = {\n",
        "      0:'sad',\n",
        "      1:'happy'   \n",
        "    }      \n",
        "      df_encoded_lbls = pd.DataFrame(labels)\n",
        "      list_decoded = [ emotion_decoder.get(values[0]) for name, values  in  df_encoded_lbls.iterrows()]\n",
        "      return list_decoded"
      ],
      "execution_count": 31,
      "outputs": []
    },
    {
      "cell_type": "code",
      "metadata": {
        "id": "q1WlqlgArqmn"
      },
      "source": [
        "label_matching_text = train_labels.copy()\n",
        "train_data_matching_text = train_data.copy()\n",
        "\n",
        "X_train_txt, y_train_txt,  X_train_audio ,y_train_audio = sort_shuffle_feats_and_labels(train_data_matching_text, label_matching_text, df3, labels)"
      ],
      "execution_count": 32,
      "outputs": []
    },
    {
      "cell_type": "markdown",
      "metadata": {
        "id": "VzNj1DJw3FAX"
      },
      "source": [
        "Sanity check of the newly re-arranged data"
      ]
    },
    {
      "cell_type": "code",
      "metadata": {
        "id": "sZ4qnYRvkNs3"
      },
      "source": [
        "# display(X_train_txt) \n",
        "# display(y_train_txt) \n",
        "display(X_train_audio) \n",
        "# display(y_train_audio)  \n"
      ],
      "execution_count": null,
      "outputs": []
    },
    {
      "cell_type": "code",
      "metadata": {
        "id": "D-hEtyzfBxoQ"
      },
      "source": [
        "X_train_audio.isna().sum()"
      ],
      "execution_count": null,
      "outputs": []
    },
    {
      "cell_type": "markdown",
      "metadata": {
        "id": "crnfDEQG26Kv"
      },
      "source": [
        "# Prep training, testing, and validation datasets"
      ]
    },
    {
      "cell_type": "code",
      "metadata": {
        "id": "MF74Ux1RbeGd"
      },
      "source": [
        "def vectorize_sequences(sequences, dimension=10000):\n",
        "    # Create an all-zero matrix of shape (len(sequences), dimension)\n",
        "    results = np.zeros((len(sequences), dimension))\n",
        "    for i, sequence in enumerate(sequences):\n",
        "        results[i, sequence] = 1.  # set specific indices of results[i] to 1s\n",
        "    return results\n",
        "\n",
        "\n",
        "def prepare_imdb_dataset(test_size, val_size, random_state, \n",
        "                         adjust_Train_sample=False, \n",
        "                         adjust_Test_sample=False,\n",
        "                         adjust_Val_sample=False , \n",
        "                         train_shape=None, \n",
        "                         test_shape=None,\n",
        "                         val_shape=None,\n",
        "                         lstm=False):\n",
        "\n",
        "    xTrain, xTest, yTrain, yTest = train_test_split(X_train_txt, y_train_txt, train_size=test_size, random_state=random_state, shuffle=False)\n",
        "\n",
        "    xTrain, xVal, yTrain, yVal = train_test_split(xTrain,  yTrain, test_size=val_size, random_state=random_state, shuffle=False)\n",
        "    xTrain=np.array(xTrain)\n",
        "    # Our vectorized training data\n",
        "    x_train_text = vectorize_sequences(xTrain)    \n",
        "    # Our vectorized test data\n",
        "    x_test_text = vectorize_sequences(xTest)\n",
        "    # Our vectorized test data\n",
        "    x_val_text = vectorize_sequences(xVal)\n",
        "   \n",
        "\n",
        "    # Our vectorized labels\n",
        "    y_train_text = np.asarray(yTrain).astype('float32')\n",
        "    y_test_text= np.asarray(yTest).astype('float32')\n",
        "    y_val_text= np.asarray(yVal).astype('float32')\n",
        "\n",
        "    if adjust_Train_sample:\n",
        "      x_train_text = x_train_text[: train_shape]\n",
        "      y_train_text = y_train_text[: train_shape]\n",
        "      if lstm:\n",
        "           x_train_text = x_train_text[..., np.newaxis]\n",
        "           y_train_text = y_train_text[..., np.newaxis]\n",
        "\n",
        "\n",
        "    if adjust_Test_sample:\n",
        "      x_test_text = x_test_text[:test_shape]\n",
        "      y_test_text = y_test_text[:test_shape]\n",
        "      if lstm:\n",
        "        x_test_text = x_test_text[..., np.newaxis]\n",
        "        y_test_text = y_test_text[..., np.newaxis]\n",
        "\n",
        "    if adjust_Val_sample:\n",
        "      x_val_text = x_val_text[:val_shape]     \n",
        "      y_val_text = y_val_text[:val_shape]\n",
        "      if lstm:\n",
        "        x_val_text = x_val_text[..., np.newaxis]     \n",
        "        y_val_text = y_val_text[..., np.newaxis] \n",
        "\n",
        "    return x_train_text, x_val_text, x_test_text , y_train_text, y_val_text,y_test_text"
      ],
      "execution_count": 19,
      "outputs": []
    },
    {
      "cell_type": "code",
      "metadata": {
        "id": "All9-4PbbsBd"
      },
      "source": [
        " X_train, X_test, y_train, y_test =train_test_split(X_train_audio, y_train_audio, train_size=0.83, random_state=None, shuffle=False)\n",
        " X_train, X_val, y_train, y_val =train_test_split( X_train, y_train, test_size=0.1, random_state=None,shuffle=False)"
      ],
      "execution_count": 73,
      "outputs": []
    },
    {
      "cell_type": "code",
      "metadata": {
        "id": "WQ5UvHBgcF60"
      },
      "source": [
        "x_trainapi = X_train.copy()\n",
        "x_testapi = X_test.copy()\n",
        "x_valapi = X_val.copy()\n",
        "\n",
        "x_trainapi = np.expand_dims(x_trainapi, axis=2)\n",
        "x_testapi = np.expand_dims(x_testapi, axis=2)\n",
        "x_valapi = np.expand_dims(x_valapi, axis=2)"
      ],
      "execution_count": 74,
      "outputs": []
    },
    {
      "cell_type": "code",
      "metadata": {
        "id": "-DTu-ifAbgvo"
      },
      "source": [
        "xTrain_text, xVal_text, xTest_text, yTrain_text, yVal_text,yTest_text = prepare_imdb_dataset(test_size=0.83, \n",
        "                                                                                              val_size=0.1, \n",
        "                                                                                              random_state=None,\n",
        "                                                                                              adjust_Train_sample=True, \n",
        "                                                                                              adjust_Test_sample=True,\n",
        "                                                                                              adjust_Val_sample=True,\n",
        "                                                                                              train_shape=x_trainapi.shape[0], \n",
        "                                                                                              test_shape=x_testapi.shape[0],\n",
        "                                                                                              val_shape=x_valapi.shape[0],\n",
        "                                                                                              lstm =False\n",
        "                                                                                              )"
      ],
      "execution_count": 75,
      "outputs": []
    },
    {
      "cell_type": "code",
      "metadata": {
        "id": "c8hvDNwwbvaF"
      },
      "source": [
        "y_train = np_utils.to_categorical(y_train)\n",
        "y_test = np_utils.to_categorical(y_test)\n",
        "y_val = np_utils.to_categorical(y_val)"
      ],
      "execution_count": 76,
      "outputs": []
    },
    {
      "cell_type": "markdown",
      "metadata": {
        "id": "BTxf78hWfpFX"
      },
      "source": [
        "# Functional API model one output with synced labels"
      ]
    },
    {
      "cell_type": "code",
      "metadata": {
        "id": "-IsVFMpIiUOf"
      },
      "source": [
        "text_input_shape = (xTrain_text.shape[1],)\n",
        "audio_input_shape = (x_trainapi.shape[1], x_trainapi.shape[2])"
      ],
      "execution_count": 77,
      "outputs": []
    },
    {
      "cell_type": "code",
      "metadata": {
        "colab": {
          "base_uri": "https://localhost:8080/"
        },
        "id": "6E5qf6bIfkTP",
        "outputId": "aaa3cfb4-f81d-4ffa-8b94-eca925c464ac"
      },
      "source": [
        "# Text Input / Processing Layer\n",
        "text_input_shape = text_input_shape\n",
        "text_input = Input(shape=text_input_shape, dtype='float32', name='text')\n",
        "\n",
        "dense_layer_1 = Dense(16,activation='relu')(text_input)\n",
        "dense_layer_2 = Dense(16,activation='relu')(dense_layer_1)\n",
        "drop_out_text = Dropout(0.3)(dense_layer_2)\n",
        "results = Dense(1,activation='sigmoid')(drop_out_text) #83% acc\n",
        "# results = Dense(2,activation='sigmoid')(drop_out_text) 82% acc\n",
        "\n",
        "# Sound Input / Processing layer\n",
        "audio_input_shape = audio_input_shape\n",
        "audio_input = Input(shape=audio_input_shape, name='audio')\n",
        "feat_extrct1_audio = Conv1D(128,5, activation='relu',padding='same')(audio_input)    \n",
        "feat_extrct2_audio = Conv1D(128,5, activation='relu',padding='same')(feat_extrct1_audio)  \n",
        "feat_extrct3_audio = Conv1D(128,5, activation='relu',padding='same')(feat_extrct2_audio)  \n",
        "drop_out_audio = Dropout(0.1)(feat_extrct3_audio)\n",
        "max_pool_audio = MaxPool1D(pool_size=(8))(drop_out_audio)\n",
        "feat_extrct4_audio = Conv1D(128,5,activation='relu',padding='same')(max_pool_audio)    \n",
        "flatten_audio =Flatten()(feat_extrct4_audio)\n",
        "dense_audio_1 = Dense(16, activation='relu')(flatten_audio)\n",
        "dense_dropout = Dropout(0.3)(dense_audio_1 )\n",
        "dense_audio_ans = Dense(2, activation='softmax')(dense_dropout)\n",
        "\n",
        "#concatenate layers\n",
        "concat_layers = concatenate([results, dense_audio_ans], axis=-1)\n",
        "answer = Dense(2,activation='softmax')(concat_layers)\n",
        "\n",
        "#compile model\n",
        "model_funct_2in_1out = Model([text_input, audio_input], answer)\n",
        "optimizer = Adam(learning_rate=1e-5)\n",
        "model_funct_2in_1out.compile(optimizer=optimizer , loss='binary_crossentropy', metrics=['accuracy'])\n",
        "model_funct_2in_1out.summary()"
      ],
      "execution_count": 80,
      "outputs": [
        {
          "output_type": "stream",
          "text": [
            "Model: \"model_12\"\n",
            "__________________________________________________________________________________________________\n",
            "Layer (type)                    Output Shape         Param #     Connected to                     \n",
            "==================================================================================================\n",
            "audio (InputLayer)              [(None, 216, 1)]     0                                            \n",
            "__________________________________________________________________________________________________\n",
            "conv1d_56 (Conv1D)              (None, 216, 128)     768         audio[0][0]                      \n",
            "__________________________________________________________________________________________________\n",
            "conv1d_57 (Conv1D)              (None, 216, 128)     82048       conv1d_56[0][0]                  \n",
            "__________________________________________________________________________________________________\n",
            "conv1d_58 (Conv1D)              (None, 216, 128)     82048       conv1d_57[0][0]                  \n",
            "__________________________________________________________________________________________________\n",
            "dropout_43 (Dropout)            (None, 216, 128)     0           conv1d_58[0][0]                  \n",
            "__________________________________________________________________________________________________\n",
            "max_pooling1d_14 (MaxPooling1D) (None, 27, 128)      0           dropout_43[0][0]                 \n",
            "__________________________________________________________________________________________________\n",
            "text (InputLayer)               [(None, 10000)]      0                                            \n",
            "__________________________________________________________________________________________________\n",
            "conv1d_59 (Conv1D)              (None, 27, 128)      82048       max_pooling1d_14[0][0]           \n",
            "__________________________________________________________________________________________________\n",
            "dense_78 (Dense)                (None, 16)           160016      text[0][0]                       \n",
            "__________________________________________________________________________________________________\n",
            "flatten_14 (Flatten)            (None, 3456)         0           conv1d_59[0][0]                  \n",
            "__________________________________________________________________________________________________\n",
            "dense_79 (Dense)                (None, 16)           272         dense_78[0][0]                   \n",
            "__________________________________________________________________________________________________\n",
            "dense_81 (Dense)                (None, 16)           55312       flatten_14[0][0]                 \n",
            "__________________________________________________________________________________________________\n",
            "dropout_42 (Dropout)            (None, 16)           0           dense_79[0][0]                   \n",
            "__________________________________________________________________________________________________\n",
            "dropout_44 (Dropout)            (None, 16)           0           dense_81[0][0]                   \n",
            "__________________________________________________________________________________________________\n",
            "dense_80 (Dense)                (None, 1)            17          dropout_42[0][0]                 \n",
            "__________________________________________________________________________________________________\n",
            "dense_82 (Dense)                (None, 2)            34          dropout_44[0][0]                 \n",
            "__________________________________________________________________________________________________\n",
            "concatenate_10 (Concatenate)    (None, 3)            0           dense_80[0][0]                   \n",
            "                                                                 dense_82[0][0]                   \n",
            "__________________________________________________________________________________________________\n",
            "dense_83 (Dense)                (None, 2)            8           concatenate_10[0][0]             \n",
            "==================================================================================================\n",
            "Total params: 462,571\n",
            "Trainable params: 462,571\n",
            "Non-trainable params: 0\n",
            "__________________________________________________________________________________________________\n"
          ],
          "name": "stdout"
        }
      ]
    },
    {
      "cell_type": "code",
      "metadata": {
        "colab": {
          "base_uri": "https://localhost:8080/"
        },
        "id": "YbQOLE_pfoef",
        "outputId": "842786b0-4355-4b36-c24b-318daba4b5b3"
      },
      "source": [
        "apihistory=model_funct_2in_1out.fit([xTrain_text , x_trainapi],  y_train, batch_size=32, epochs=250, validation_data=([xTest_text, x_testapi], y_test))"
      ],
      "execution_count": 81,
      "outputs": [
        {
          "output_type": "stream",
          "text": [
            "Epoch 1/250\n",
            "21/21 [==============================] - 1s 22ms/step - loss: 0.7112 - accuracy: 0.4981 - val_loss: 0.6976 - val_accuracy: 0.5101\n",
            "Epoch 2/250\n",
            "21/21 [==============================] - 0s 12ms/step - loss: 0.7063 - accuracy: 0.5010 - val_loss: 0.6943 - val_accuracy: 0.5436\n",
            "Epoch 3/250\n",
            "21/21 [==============================] - 0s 13ms/step - loss: 0.6957 - accuracy: 0.5370 - val_loss: 0.6952 - val_accuracy: 0.5235\n",
            "Epoch 4/250\n",
            "21/21 [==============================] - 0s 12ms/step - loss: 0.6994 - accuracy: 0.5032 - val_loss: 0.6911 - val_accuracy: 0.5906\n",
            "Epoch 5/250\n",
            "21/21 [==============================] - 0s 11ms/step - loss: 0.6973 - accuracy: 0.5048 - val_loss: 0.6909 - val_accuracy: 0.5570\n",
            "Epoch 6/250\n",
            "21/21 [==============================] - 0s 11ms/step - loss: 0.6905 - accuracy: 0.5631 - val_loss: 0.6883 - val_accuracy: 0.5101\n",
            "Epoch 7/250\n",
            "21/21 [==============================] - 0s 12ms/step - loss: 0.6924 - accuracy: 0.5608 - val_loss: 0.6877 - val_accuracy: 0.5973\n",
            "Epoch 8/250\n",
            "21/21 [==============================] - 0s 11ms/step - loss: 0.6901 - accuracy: 0.5437 - val_loss: 0.6883 - val_accuracy: 0.5772\n",
            "Epoch 9/250\n",
            "21/21 [==============================] - 0s 11ms/step - loss: 0.6890 - accuracy: 0.5493 - val_loss: 0.6855 - val_accuracy: 0.6040\n",
            "Epoch 10/250\n",
            "21/21 [==============================] - 0s 11ms/step - loss: 0.6919 - accuracy: 0.5369 - val_loss: 0.6856 - val_accuracy: 0.6174\n",
            "Epoch 11/250\n",
            "21/21 [==============================] - 0s 11ms/step - loss: 0.6839 - accuracy: 0.5848 - val_loss: 0.6846 - val_accuracy: 0.6107\n",
            "Epoch 12/250\n",
            "21/21 [==============================] - 0s 12ms/step - loss: 0.6859 - accuracy: 0.5993 - val_loss: 0.6831 - val_accuracy: 0.5638\n",
            "Epoch 13/250\n",
            "21/21 [==============================] - 0s 10ms/step - loss: 0.6857 - accuracy: 0.5603 - val_loss: 0.6856 - val_accuracy: 0.5839\n",
            "Epoch 14/250\n",
            "21/21 [==============================] - 0s 10ms/step - loss: 0.6812 - accuracy: 0.5984 - val_loss: 0.6831 - val_accuracy: 0.5705\n",
            "Epoch 15/250\n",
            "21/21 [==============================] - 0s 12ms/step - loss: 0.6843 - accuracy: 0.5451 - val_loss: 0.6840 - val_accuracy: 0.5973\n",
            "Epoch 16/250\n",
            "21/21 [==============================] - 0s 11ms/step - loss: 0.6807 - accuracy: 0.6096 - val_loss: 0.6813 - val_accuracy: 0.6242\n",
            "Epoch 17/250\n",
            "21/21 [==============================] - 0s 10ms/step - loss: 0.6760 - accuracy: 0.6244 - val_loss: 0.6813 - val_accuracy: 0.6174\n",
            "Epoch 18/250\n",
            "21/21 [==============================] - 0s 11ms/step - loss: 0.6782 - accuracy: 0.5853 - val_loss: 0.6822 - val_accuracy: 0.5839\n",
            "Epoch 19/250\n",
            "21/21 [==============================] - 0s 11ms/step - loss: 0.6811 - accuracy: 0.5812 - val_loss: 0.6823 - val_accuracy: 0.5973\n",
            "Epoch 20/250\n",
            "21/21 [==============================] - 0s 11ms/step - loss: 0.6791 - accuracy: 0.5917 - val_loss: 0.6785 - val_accuracy: 0.5973\n",
            "Epoch 21/250\n",
            "21/21 [==============================] - 0s 10ms/step - loss: 0.6796 - accuracy: 0.5835 - val_loss: 0.6787 - val_accuracy: 0.6443\n",
            "Epoch 22/250\n",
            "21/21 [==============================] - 0s 10ms/step - loss: 0.6772 - accuracy: 0.6405 - val_loss: 0.6783 - val_accuracy: 0.6107\n",
            "Epoch 23/250\n",
            "21/21 [==============================] - 0s 11ms/step - loss: 0.6719 - accuracy: 0.6245 - val_loss: 0.6792 - val_accuracy: 0.5973\n",
            "Epoch 24/250\n",
            "21/21 [==============================] - 0s 11ms/step - loss: 0.6706 - accuracy: 0.6384 - val_loss: 0.6805 - val_accuracy: 0.6040\n",
            "Epoch 25/250\n",
            "21/21 [==============================] - 0s 10ms/step - loss: 0.6773 - accuracy: 0.5796 - val_loss: 0.6765 - val_accuracy: 0.6107\n",
            "Epoch 26/250\n",
            "21/21 [==============================] - 0s 10ms/step - loss: 0.6737 - accuracy: 0.6116 - val_loss: 0.6769 - val_accuracy: 0.5772\n",
            "Epoch 27/250\n",
            "21/21 [==============================] - 0s 10ms/step - loss: 0.6740 - accuracy: 0.5921 - val_loss: 0.6778 - val_accuracy: 0.6242\n",
            "Epoch 28/250\n",
            "21/21 [==============================] - 0s 10ms/step - loss: 0.6703 - accuracy: 0.6231 - val_loss: 0.6757 - val_accuracy: 0.6376\n",
            "Epoch 29/250\n",
            "21/21 [==============================] - 0s 12ms/step - loss: 0.6752 - accuracy: 0.5964 - val_loss: 0.6773 - val_accuracy: 0.6174\n",
            "Epoch 30/250\n",
            "21/21 [==============================] - 0s 12ms/step - loss: 0.6666 - accuracy: 0.6547 - val_loss: 0.6804 - val_accuracy: 0.5570\n",
            "Epoch 31/250\n",
            "21/21 [==============================] - 0s 12ms/step - loss: 0.6673 - accuracy: 0.6039 - val_loss: 0.6742 - val_accuracy: 0.6040\n",
            "Epoch 32/250\n",
            "21/21 [==============================] - 0s 12ms/step - loss: 0.6680 - accuracy: 0.6208 - val_loss: 0.6739 - val_accuracy: 0.6510\n",
            "Epoch 33/250\n",
            "21/21 [==============================] - 0s 12ms/step - loss: 0.6656 - accuracy: 0.6272 - val_loss: 0.6779 - val_accuracy: 0.5638\n",
            "Epoch 34/250\n",
            "21/21 [==============================] - 0s 10ms/step - loss: 0.6693 - accuracy: 0.6193 - val_loss: 0.6743 - val_accuracy: 0.6443\n",
            "Epoch 35/250\n",
            "21/21 [==============================] - 0s 11ms/step - loss: 0.6673 - accuracy: 0.6190 - val_loss: 0.6739 - val_accuracy: 0.6577\n",
            "Epoch 36/250\n",
            "21/21 [==============================] - 0s 10ms/step - loss: 0.6739 - accuracy: 0.6100 - val_loss: 0.6764 - val_accuracy: 0.5973\n",
            "Epoch 37/250\n",
            "21/21 [==============================] - 0s 12ms/step - loss: 0.6670 - accuracy: 0.6607 - val_loss: 0.6728 - val_accuracy: 0.6577\n",
            "Epoch 38/250\n",
            "21/21 [==============================] - 0s 11ms/step - loss: 0.6604 - accuracy: 0.6674 - val_loss: 0.6731 - val_accuracy: 0.6510\n",
            "Epoch 39/250\n",
            "21/21 [==============================] - 0s 11ms/step - loss: 0.6599 - accuracy: 0.6530 - val_loss: 0.6726 - val_accuracy: 0.6644\n",
            "Epoch 40/250\n",
            "21/21 [==============================] - 0s 12ms/step - loss: 0.6603 - accuracy: 0.6252 - val_loss: 0.6767 - val_accuracy: 0.5839\n",
            "Epoch 41/250\n",
            "21/21 [==============================] - 0s 11ms/step - loss: 0.6729 - accuracy: 0.5897 - val_loss: 0.6715 - val_accuracy: 0.6309\n",
            "Epoch 42/250\n",
            "21/21 [==============================] - 0s 10ms/step - loss: 0.6592 - accuracy: 0.6468 - val_loss: 0.6703 - val_accuracy: 0.6107\n",
            "Epoch 43/250\n",
            "21/21 [==============================] - 0s 10ms/step - loss: 0.6652 - accuracy: 0.5926 - val_loss: 0.6702 - val_accuracy: 0.6711\n",
            "Epoch 44/250\n",
            "21/21 [==============================] - 0s 10ms/step - loss: 0.6604 - accuracy: 0.6589 - val_loss: 0.6711 - val_accuracy: 0.6174\n",
            "Epoch 45/250\n",
            "21/21 [==============================] - 0s 10ms/step - loss: 0.6562 - accuracy: 0.6631 - val_loss: 0.6700 - val_accuracy: 0.6242\n",
            "Epoch 46/250\n",
            "21/21 [==============================] - 0s 11ms/step - loss: 0.6515 - accuracy: 0.6635 - val_loss: 0.6698 - val_accuracy: 0.6644\n",
            "Epoch 47/250\n",
            "21/21 [==============================] - 0s 10ms/step - loss: 0.6542 - accuracy: 0.6636 - val_loss: 0.6718 - val_accuracy: 0.5973\n",
            "Epoch 48/250\n",
            "21/21 [==============================] - 0s 11ms/step - loss: 0.6543 - accuracy: 0.6519 - val_loss: 0.6726 - val_accuracy: 0.5906\n",
            "Epoch 49/250\n",
            "21/21 [==============================] - 0s 10ms/step - loss: 0.6569 - accuracy: 0.6428 - val_loss: 0.6690 - val_accuracy: 0.6510\n",
            "Epoch 50/250\n",
            "21/21 [==============================] - 0s 11ms/step - loss: 0.6547 - accuracy: 0.6491 - val_loss: 0.6680 - val_accuracy: 0.6242\n",
            "Epoch 51/250\n",
            "21/21 [==============================] - 0s 11ms/step - loss: 0.6481 - accuracy: 0.6821 - val_loss: 0.6663 - val_accuracy: 0.6711\n",
            "Epoch 52/250\n",
            "21/21 [==============================] - 0s 11ms/step - loss: 0.6549 - accuracy: 0.6493 - val_loss: 0.6708 - val_accuracy: 0.6443\n",
            "Epoch 53/250\n",
            "21/21 [==============================] - 0s 11ms/step - loss: 0.6487 - accuracy: 0.7161 - val_loss: 0.6654 - val_accuracy: 0.6846\n",
            "Epoch 54/250\n",
            "21/21 [==============================] - 0s 12ms/step - loss: 0.6610 - accuracy: 0.6323 - val_loss: 0.6711 - val_accuracy: 0.5705\n",
            "Epoch 55/250\n",
            "21/21 [==============================] - 0s 11ms/step - loss: 0.6613 - accuracy: 0.6156 - val_loss: 0.6675 - val_accuracy: 0.6913\n",
            "Epoch 56/250\n",
            "21/21 [==============================] - 0s 11ms/step - loss: 0.6489 - accuracy: 0.6514 - val_loss: 0.6656 - val_accuracy: 0.6779\n",
            "Epoch 57/250\n",
            "21/21 [==============================] - 0s 10ms/step - loss: 0.6424 - accuracy: 0.6955 - val_loss: 0.6651 - val_accuracy: 0.6376\n",
            "Epoch 58/250\n",
            "21/21 [==============================] - 0s 12ms/step - loss: 0.6529 - accuracy: 0.6362 - val_loss: 0.6657 - val_accuracy: 0.6309\n",
            "Epoch 59/250\n",
            "21/21 [==============================] - 0s 12ms/step - loss: 0.6554 - accuracy: 0.6757 - val_loss: 0.6664 - val_accuracy: 0.6846\n",
            "Epoch 60/250\n",
            "21/21 [==============================] - 0s 11ms/step - loss: 0.6406 - accuracy: 0.7208 - val_loss: 0.6643 - val_accuracy: 0.6644\n",
            "Epoch 61/250\n",
            "21/21 [==============================] - 0s 11ms/step - loss: 0.6433 - accuracy: 0.6826 - val_loss: 0.6625 - val_accuracy: 0.6846\n",
            "Epoch 62/250\n",
            "21/21 [==============================] - 0s 10ms/step - loss: 0.6489 - accuracy: 0.6926 - val_loss: 0.6679 - val_accuracy: 0.5973\n",
            "Epoch 63/250\n",
            "21/21 [==============================] - 0s 12ms/step - loss: 0.6679 - accuracy: 0.6110 - val_loss: 0.6656 - val_accuracy: 0.6846\n",
            "Epoch 64/250\n",
            "21/21 [==============================] - 0s 10ms/step - loss: 0.6519 - accuracy: 0.6728 - val_loss: 0.6676 - val_accuracy: 0.5772\n",
            "Epoch 65/250\n",
            "21/21 [==============================] - 0s 10ms/step - loss: 0.6480 - accuracy: 0.6707 - val_loss: 0.6628 - val_accuracy: 0.7114\n",
            "Epoch 66/250\n",
            "21/21 [==============================] - 0s 11ms/step - loss: 0.6442 - accuracy: 0.6924 - val_loss: 0.6636 - val_accuracy: 0.6779\n",
            "Epoch 67/250\n",
            "21/21 [==============================] - 0s 11ms/step - loss: 0.6396 - accuracy: 0.6993 - val_loss: 0.6623 - val_accuracy: 0.6309\n",
            "Epoch 68/250\n",
            "21/21 [==============================] - 0s 10ms/step - loss: 0.6491 - accuracy: 0.6454 - val_loss: 0.6615 - val_accuracy: 0.7047\n",
            "Epoch 69/250\n",
            "21/21 [==============================] - 0s 10ms/step - loss: 0.6456 - accuracy: 0.6703 - val_loss: 0.6592 - val_accuracy: 0.6779\n",
            "Epoch 70/250\n",
            "21/21 [==============================] - 0s 10ms/step - loss: 0.6370 - accuracy: 0.7092 - val_loss: 0.6605 - val_accuracy: 0.6980\n",
            "Epoch 71/250\n",
            "21/21 [==============================] - 0s 11ms/step - loss: 0.6535 - accuracy: 0.6658 - val_loss: 0.6603 - val_accuracy: 0.6779\n",
            "Epoch 72/250\n",
            "21/21 [==============================] - 0s 12ms/step - loss: 0.6595 - accuracy: 0.6380 - val_loss: 0.6632 - val_accuracy: 0.6107\n",
            "Epoch 73/250\n",
            "21/21 [==============================] - 0s 11ms/step - loss: 0.6494 - accuracy: 0.6624 - val_loss: 0.6600 - val_accuracy: 0.6510\n",
            "Epoch 74/250\n",
            "21/21 [==============================] - 0s 11ms/step - loss: 0.6507 - accuracy: 0.6404 - val_loss: 0.6584 - val_accuracy: 0.6913\n",
            "Epoch 75/250\n",
            "21/21 [==============================] - 0s 11ms/step - loss: 0.6360 - accuracy: 0.7048 - val_loss: 0.6641 - val_accuracy: 0.5772\n",
            "Epoch 76/250\n",
            "21/21 [==============================] - 0s 12ms/step - loss: 0.6405 - accuracy: 0.6684 - val_loss: 0.6563 - val_accuracy: 0.6846\n",
            "Epoch 77/250\n",
            "21/21 [==============================] - 0s 10ms/step - loss: 0.6322 - accuracy: 0.6975 - val_loss: 0.6570 - val_accuracy: 0.6913\n",
            "Epoch 78/250\n",
            "21/21 [==============================] - 0s 11ms/step - loss: 0.6302 - accuracy: 0.7186 - val_loss: 0.6629 - val_accuracy: 0.6107\n",
            "Epoch 79/250\n",
            "21/21 [==============================] - 0s 10ms/step - loss: 0.6344 - accuracy: 0.7023 - val_loss: 0.6570 - val_accuracy: 0.6846\n",
            "Epoch 80/250\n",
            "21/21 [==============================] - 0s 10ms/step - loss: 0.6341 - accuracy: 0.7057 - val_loss: 0.6585 - val_accuracy: 0.6510\n",
            "Epoch 81/250\n",
            "21/21 [==============================] - 0s 12ms/step - loss: 0.6346 - accuracy: 0.6981 - val_loss: 0.6565 - val_accuracy: 0.6846\n",
            "Epoch 82/250\n",
            "21/21 [==============================] - 0s 11ms/step - loss: 0.6212 - accuracy: 0.7407 - val_loss: 0.6553 - val_accuracy: 0.6846\n",
            "Epoch 83/250\n",
            "21/21 [==============================] - 0s 12ms/step - loss: 0.6359 - accuracy: 0.6780 - val_loss: 0.6658 - val_accuracy: 0.5839\n",
            "Epoch 84/250\n",
            "21/21 [==============================] - 0s 12ms/step - loss: 0.6290 - accuracy: 0.6848 - val_loss: 0.6557 - val_accuracy: 0.7047\n",
            "Epoch 85/250\n",
            "21/21 [==============================] - 0s 13ms/step - loss: 0.6367 - accuracy: 0.6974 - val_loss: 0.6545 - val_accuracy: 0.6846\n",
            "Epoch 86/250\n",
            "21/21 [==============================] - 0s 12ms/step - loss: 0.6313 - accuracy: 0.7179 - val_loss: 0.6558 - val_accuracy: 0.6443\n",
            "Epoch 87/250\n",
            "21/21 [==============================] - 0s 12ms/step - loss: 0.6294 - accuracy: 0.7181 - val_loss: 0.6524 - val_accuracy: 0.7047\n",
            "Epoch 88/250\n",
            "21/21 [==============================] - 0s 12ms/step - loss: 0.6370 - accuracy: 0.6696 - val_loss: 0.6543 - val_accuracy: 0.6644\n",
            "Epoch 89/250\n",
            "21/21 [==============================] - 0s 11ms/step - loss: 0.6280 - accuracy: 0.7237 - val_loss: 0.6527 - val_accuracy: 0.6846\n",
            "Epoch 90/250\n",
            "21/21 [==============================] - 0s 11ms/step - loss: 0.6399 - accuracy: 0.6846 - val_loss: 0.6520 - val_accuracy: 0.6980\n",
            "Epoch 91/250\n",
            "21/21 [==============================] - 0s 11ms/step - loss: 0.6275 - accuracy: 0.6950 - val_loss: 0.6562 - val_accuracy: 0.6174\n",
            "Epoch 92/250\n",
            "21/21 [==============================] - 0s 11ms/step - loss: 0.6294 - accuracy: 0.7054 - val_loss: 0.6526 - val_accuracy: 0.6846\n",
            "Epoch 93/250\n",
            "21/21 [==============================] - 0s 11ms/step - loss: 0.6374 - accuracy: 0.7121 - val_loss: 0.6505 - val_accuracy: 0.7114\n",
            "Epoch 94/250\n",
            "21/21 [==============================] - 0s 10ms/step - loss: 0.6249 - accuracy: 0.7001 - val_loss: 0.6535 - val_accuracy: 0.6443\n",
            "Epoch 95/250\n",
            "21/21 [==============================] - 0s 12ms/step - loss: 0.6351 - accuracy: 0.6802 - val_loss: 0.6495 - val_accuracy: 0.6913\n",
            "Epoch 96/250\n",
            "21/21 [==============================] - 0s 13ms/step - loss: 0.6236 - accuracy: 0.7344 - val_loss: 0.6546 - val_accuracy: 0.6107\n",
            "Epoch 97/250\n",
            "21/21 [==============================] - 0s 12ms/step - loss: 0.6345 - accuracy: 0.6661 - val_loss: 0.6529 - val_accuracy: 0.6443\n",
            "Epoch 98/250\n",
            "21/21 [==============================] - 0s 11ms/step - loss: 0.6248 - accuracy: 0.7256 - val_loss: 0.6486 - val_accuracy: 0.6913\n",
            "Epoch 99/250\n",
            "21/21 [==============================] - 0s 11ms/step - loss: 0.6186 - accuracy: 0.7266 - val_loss: 0.6505 - val_accuracy: 0.6779\n",
            "Epoch 100/250\n",
            "21/21 [==============================] - 0s 11ms/step - loss: 0.6208 - accuracy: 0.7242 - val_loss: 0.6539 - val_accuracy: 0.6107\n",
            "Epoch 101/250\n",
            "21/21 [==============================] - 0s 10ms/step - loss: 0.6308 - accuracy: 0.7018 - val_loss: 0.6521 - val_accuracy: 0.6577\n",
            "Epoch 102/250\n",
            "21/21 [==============================] - 0s 11ms/step - loss: 0.6265 - accuracy: 0.7499 - val_loss: 0.6493 - val_accuracy: 0.6913\n",
            "Epoch 103/250\n",
            "21/21 [==============================] - 0s 11ms/step - loss: 0.6311 - accuracy: 0.6905 - val_loss: 0.6501 - val_accuracy: 0.6711\n",
            "Epoch 104/250\n",
            "21/21 [==============================] - 0s 11ms/step - loss: 0.6293 - accuracy: 0.6928 - val_loss: 0.6518 - val_accuracy: 0.6644\n",
            "Epoch 105/250\n",
            "21/21 [==============================] - 0s 11ms/step - loss: 0.6269 - accuracy: 0.7274 - val_loss: 0.6468 - val_accuracy: 0.7047\n",
            "Epoch 106/250\n",
            "21/21 [==============================] - 0s 11ms/step - loss: 0.6298 - accuracy: 0.6990 - val_loss: 0.6468 - val_accuracy: 0.7114\n",
            "Epoch 107/250\n",
            "21/21 [==============================] - 0s 11ms/step - loss: 0.6297 - accuracy: 0.7076 - val_loss: 0.6548 - val_accuracy: 0.6107\n",
            "Epoch 108/250\n",
            "21/21 [==============================] - 0s 10ms/step - loss: 0.6237 - accuracy: 0.7108 - val_loss: 0.6469 - val_accuracy: 0.6980\n",
            "Epoch 109/250\n",
            "21/21 [==============================] - 0s 11ms/step - loss: 0.6169 - accuracy: 0.7455 - val_loss: 0.6522 - val_accuracy: 0.6309\n",
            "Epoch 110/250\n",
            "21/21 [==============================] - 0s 11ms/step - loss: 0.6220 - accuracy: 0.7283 - val_loss: 0.6478 - val_accuracy: 0.6846\n",
            "Epoch 111/250\n",
            "21/21 [==============================] - 0s 10ms/step - loss: 0.6208 - accuracy: 0.7189 - val_loss: 0.6513 - val_accuracy: 0.6510\n",
            "Epoch 112/250\n",
            "21/21 [==============================] - 0s 10ms/step - loss: 0.6166 - accuracy: 0.7660 - val_loss: 0.6454 - val_accuracy: 0.7114\n",
            "Epoch 113/250\n",
            "21/21 [==============================] - 0s 11ms/step - loss: 0.6138 - accuracy: 0.7454 - val_loss: 0.6459 - val_accuracy: 0.6846\n",
            "Epoch 114/250\n",
            "21/21 [==============================] - 0s 10ms/step - loss: 0.6238 - accuracy: 0.6984 - val_loss: 0.6479 - val_accuracy: 0.6711\n",
            "Epoch 115/250\n",
            "21/21 [==============================] - 0s 11ms/step - loss: 0.6237 - accuracy: 0.7054 - val_loss: 0.6445 - val_accuracy: 0.6913\n",
            "Epoch 116/250\n",
            "21/21 [==============================] - 0s 11ms/step - loss: 0.6192 - accuracy: 0.7261 - val_loss: 0.6466 - val_accuracy: 0.6644\n",
            "Epoch 117/250\n",
            "21/21 [==============================] - 0s 11ms/step - loss: 0.6030 - accuracy: 0.7536 - val_loss: 0.6484 - val_accuracy: 0.6577\n",
            "Epoch 118/250\n",
            "21/21 [==============================] - 0s 11ms/step - loss: 0.6169 - accuracy: 0.7191 - val_loss: 0.6445 - val_accuracy: 0.6913\n",
            "Epoch 119/250\n",
            "21/21 [==============================] - 0s 12ms/step - loss: 0.6111 - accuracy: 0.7503 - val_loss: 0.6414 - val_accuracy: 0.6913\n",
            "Epoch 120/250\n",
            "21/21 [==============================] - 0s 11ms/step - loss: 0.6124 - accuracy: 0.7173 - val_loss: 0.6428 - val_accuracy: 0.6913\n",
            "Epoch 121/250\n",
            "21/21 [==============================] - 0s 11ms/step - loss: 0.6195 - accuracy: 0.7127 - val_loss: 0.6502 - val_accuracy: 0.6309\n",
            "Epoch 122/250\n",
            "21/21 [==============================] - 0s 11ms/step - loss: 0.6239 - accuracy: 0.7025 - val_loss: 0.6442 - val_accuracy: 0.6913\n",
            "Epoch 123/250\n",
            "21/21 [==============================] - 0s 11ms/step - loss: 0.6151 - accuracy: 0.7302 - val_loss: 0.6448 - val_accuracy: 0.6644\n",
            "Epoch 124/250\n",
            "21/21 [==============================] - 0s 10ms/step - loss: 0.6009 - accuracy: 0.7565 - val_loss: 0.6442 - val_accuracy: 0.6510\n",
            "Epoch 125/250\n",
            "21/21 [==============================] - 0s 11ms/step - loss: 0.6129 - accuracy: 0.7192 - val_loss: 0.6400 - val_accuracy: 0.7047\n",
            "Epoch 126/250\n",
            "21/21 [==============================] - 0s 11ms/step - loss: 0.6132 - accuracy: 0.7428 - val_loss: 0.6406 - val_accuracy: 0.6846\n",
            "Epoch 127/250\n",
            "21/21 [==============================] - 0s 11ms/step - loss: 0.6124 - accuracy: 0.7130 - val_loss: 0.6505 - val_accuracy: 0.6242\n",
            "Epoch 128/250\n",
            "21/21 [==============================] - 0s 13ms/step - loss: 0.6176 - accuracy: 0.7112 - val_loss: 0.6408 - val_accuracy: 0.6980\n",
            "Epoch 129/250\n",
            "21/21 [==============================] - 0s 12ms/step - loss: 0.6118 - accuracy: 0.7186 - val_loss: 0.6400 - val_accuracy: 0.7047\n",
            "Epoch 130/250\n",
            "21/21 [==============================] - 0s 11ms/step - loss: 0.6106 - accuracy: 0.7282 - val_loss: 0.6419 - val_accuracy: 0.6711\n",
            "Epoch 131/250\n",
            "21/21 [==============================] - 0s 11ms/step - loss: 0.6095 - accuracy: 0.7423 - val_loss: 0.6406 - val_accuracy: 0.6913\n",
            "Epoch 132/250\n",
            "21/21 [==============================] - 0s 11ms/step - loss: 0.6006 - accuracy: 0.7580 - val_loss: 0.6380 - val_accuracy: 0.6913\n",
            "Epoch 133/250\n",
            "21/21 [==============================] - 0s 11ms/step - loss: 0.6038 - accuracy: 0.7386 - val_loss: 0.6385 - val_accuracy: 0.7047\n",
            "Epoch 134/250\n",
            "21/21 [==============================] - 0s 10ms/step - loss: 0.6150 - accuracy: 0.7140 - val_loss: 0.6498 - val_accuracy: 0.6174\n",
            "Epoch 135/250\n",
            "21/21 [==============================] - 0s 11ms/step - loss: 0.6101 - accuracy: 0.7417 - val_loss: 0.6388 - val_accuracy: 0.6980\n",
            "Epoch 136/250\n",
            "21/21 [==============================] - 0s 11ms/step - loss: 0.5942 - accuracy: 0.7383 - val_loss: 0.6395 - val_accuracy: 0.6711\n",
            "Epoch 137/250\n",
            "21/21 [==============================] - 0s 10ms/step - loss: 0.6056 - accuracy: 0.7181 - val_loss: 0.6398 - val_accuracy: 0.6913\n",
            "Epoch 138/250\n",
            "21/21 [==============================] - 0s 10ms/step - loss: 0.6070 - accuracy: 0.7385 - val_loss: 0.6400 - val_accuracy: 0.6913\n",
            "Epoch 139/250\n",
            "21/21 [==============================] - 0s 12ms/step - loss: 0.6098 - accuracy: 0.7269 - val_loss: 0.6426 - val_accuracy: 0.6577\n",
            "Epoch 140/250\n",
            "21/21 [==============================] - 0s 11ms/step - loss: 0.6070 - accuracy: 0.7475 - val_loss: 0.6369 - val_accuracy: 0.7181\n",
            "Epoch 141/250\n",
            "21/21 [==============================] - 0s 12ms/step - loss: 0.6021 - accuracy: 0.7352 - val_loss: 0.6368 - val_accuracy: 0.7114\n",
            "Epoch 142/250\n",
            "21/21 [==============================] - 0s 10ms/step - loss: 0.6049 - accuracy: 0.7118 - val_loss: 0.6400 - val_accuracy: 0.6644\n",
            "Epoch 143/250\n",
            "21/21 [==============================] - 0s 11ms/step - loss: 0.5989 - accuracy: 0.7497 - val_loss: 0.6362 - val_accuracy: 0.7047\n",
            "Epoch 144/250\n",
            "21/21 [==============================] - 0s 11ms/step - loss: 0.5915 - accuracy: 0.7560 - val_loss: 0.6375 - val_accuracy: 0.7114\n",
            "Epoch 145/250\n",
            "21/21 [==============================] - 0s 11ms/step - loss: 0.6012 - accuracy: 0.7422 - val_loss: 0.6395 - val_accuracy: 0.6846\n",
            "Epoch 146/250\n",
            "21/21 [==============================] - 0s 11ms/step - loss: 0.5997 - accuracy: 0.7570 - val_loss: 0.6434 - val_accuracy: 0.6443\n",
            "Epoch 147/250\n",
            "21/21 [==============================] - 0s 11ms/step - loss: 0.6013 - accuracy: 0.7548 - val_loss: 0.6361 - val_accuracy: 0.7114\n",
            "Epoch 148/250\n",
            "21/21 [==============================] - 0s 12ms/step - loss: 0.5999 - accuracy: 0.7448 - val_loss: 0.6421 - val_accuracy: 0.6309\n",
            "Epoch 149/250\n",
            "21/21 [==============================] - 0s 12ms/step - loss: 0.6008 - accuracy: 0.7388 - val_loss: 0.6369 - val_accuracy: 0.6779\n",
            "Epoch 150/250\n",
            "21/21 [==============================] - 0s 12ms/step - loss: 0.6006 - accuracy: 0.7454 - val_loss: 0.6377 - val_accuracy: 0.6711\n",
            "Epoch 151/250\n",
            "21/21 [==============================] - 0s 12ms/step - loss: 0.5959 - accuracy: 0.7498 - val_loss: 0.6345 - val_accuracy: 0.6913\n",
            "Epoch 152/250\n",
            "21/21 [==============================] - 0s 11ms/step - loss: 0.5994 - accuracy: 0.7513 - val_loss: 0.6353 - val_accuracy: 0.6779\n",
            "Epoch 153/250\n",
            "21/21 [==============================] - 0s 10ms/step - loss: 0.6076 - accuracy: 0.7332 - val_loss: 0.6361 - val_accuracy: 0.6846\n",
            "Epoch 154/250\n",
            "21/21 [==============================] - 0s 11ms/step - loss: 0.5950 - accuracy: 0.7763 - val_loss: 0.6394 - val_accuracy: 0.6577\n",
            "Epoch 155/250\n",
            "21/21 [==============================] - 0s 11ms/step - loss: 0.6035 - accuracy: 0.7271 - val_loss: 0.6321 - val_accuracy: 0.7181\n",
            "Epoch 156/250\n",
            "21/21 [==============================] - 0s 11ms/step - loss: 0.5940 - accuracy: 0.7689 - val_loss: 0.6348 - val_accuracy: 0.6846\n",
            "Epoch 157/250\n",
            "21/21 [==============================] - 0s 13ms/step - loss: 0.5914 - accuracy: 0.7553 - val_loss: 0.6334 - val_accuracy: 0.6913\n",
            "Epoch 158/250\n",
            "21/21 [==============================] - 0s 12ms/step - loss: 0.5931 - accuracy: 0.7709 - val_loss: 0.6316 - val_accuracy: 0.7114\n",
            "Epoch 159/250\n",
            "21/21 [==============================] - 0s 12ms/step - loss: 0.5950 - accuracy: 0.7609 - val_loss: 0.6385 - val_accuracy: 0.6644\n",
            "Epoch 160/250\n",
            "21/21 [==============================] - 0s 11ms/step - loss: 0.5910 - accuracy: 0.7716 - val_loss: 0.6337 - val_accuracy: 0.6779\n",
            "Epoch 161/250\n",
            "21/21 [==============================] - 0s 11ms/step - loss: 0.5959 - accuracy: 0.7453 - val_loss: 0.6322 - val_accuracy: 0.7047\n",
            "Epoch 162/250\n",
            "21/21 [==============================] - 0s 11ms/step - loss: 0.6026 - accuracy: 0.7305 - val_loss: 0.6297 - val_accuracy: 0.6980\n",
            "Epoch 163/250\n",
            "21/21 [==============================] - 0s 11ms/step - loss: 0.5858 - accuracy: 0.7510 - val_loss: 0.6401 - val_accuracy: 0.6443\n",
            "Epoch 164/250\n",
            "21/21 [==============================] - 0s 12ms/step - loss: 0.5936 - accuracy: 0.7659 - val_loss: 0.6297 - val_accuracy: 0.6846\n",
            "Epoch 165/250\n",
            "21/21 [==============================] - 0s 11ms/step - loss: 0.5874 - accuracy: 0.7550 - val_loss: 0.6285 - val_accuracy: 0.6980\n",
            "Epoch 166/250\n",
            "21/21 [==============================] - 0s 11ms/step - loss: 0.5862 - accuracy: 0.7806 - val_loss: 0.6323 - val_accuracy: 0.7181\n",
            "Epoch 167/250\n",
            "21/21 [==============================] - 0s 11ms/step - loss: 0.5875 - accuracy: 0.7884 - val_loss: 0.6308 - val_accuracy: 0.7114\n",
            "Epoch 168/250\n",
            "21/21 [==============================] - 0s 11ms/step - loss: 0.5959 - accuracy: 0.7419 - val_loss: 0.6299 - val_accuracy: 0.7248\n",
            "Epoch 169/250\n",
            "21/21 [==============================] - 0s 12ms/step - loss: 0.5927 - accuracy: 0.7518 - val_loss: 0.6286 - val_accuracy: 0.7114\n",
            "Epoch 170/250\n",
            "21/21 [==============================] - 0s 12ms/step - loss: 0.5986 - accuracy: 0.7448 - val_loss: 0.6311 - val_accuracy: 0.6779\n",
            "Epoch 171/250\n",
            "21/21 [==============================] - 0s 12ms/step - loss: 0.5995 - accuracy: 0.7337 - val_loss: 0.6341 - val_accuracy: 0.6577\n",
            "Epoch 172/250\n",
            "21/21 [==============================] - 0s 12ms/step - loss: 0.5847 - accuracy: 0.7540 - val_loss: 0.6273 - val_accuracy: 0.6980\n",
            "Epoch 173/250\n",
            "21/21 [==============================] - 0s 12ms/step - loss: 0.5915 - accuracy: 0.7440 - val_loss: 0.6296 - val_accuracy: 0.6846\n",
            "Epoch 174/250\n",
            "21/21 [==============================] - 0s 12ms/step - loss: 0.5915 - accuracy: 0.7625 - val_loss: 0.6323 - val_accuracy: 0.6644\n",
            "Epoch 175/250\n",
            "21/21 [==============================] - 0s 11ms/step - loss: 0.5781 - accuracy: 0.7792 - val_loss: 0.6358 - val_accuracy: 0.6577\n",
            "Epoch 176/250\n",
            "21/21 [==============================] - 0s 11ms/step - loss: 0.5928 - accuracy: 0.7680 - val_loss: 0.6312 - val_accuracy: 0.6980\n",
            "Epoch 177/250\n",
            "21/21 [==============================] - 0s 12ms/step - loss: 0.5727 - accuracy: 0.7722 - val_loss: 0.6270 - val_accuracy: 0.6913\n",
            "Epoch 178/250\n",
            "21/21 [==============================] - 0s 13ms/step - loss: 0.5808 - accuracy: 0.7895 - val_loss: 0.6237 - val_accuracy: 0.7315\n",
            "Epoch 179/250\n",
            "21/21 [==============================] - 0s 12ms/step - loss: 0.5922 - accuracy: 0.7556 - val_loss: 0.6311 - val_accuracy: 0.6779\n",
            "Epoch 180/250\n",
            "21/21 [==============================] - 0s 12ms/step - loss: 0.5788 - accuracy: 0.8063 - val_loss: 0.6259 - val_accuracy: 0.6846\n",
            "Epoch 181/250\n",
            "21/21 [==============================] - 0s 13ms/step - loss: 0.5778 - accuracy: 0.7711 - val_loss: 0.6253 - val_accuracy: 0.7181\n",
            "Epoch 182/250\n",
            "21/21 [==============================] - 0s 13ms/step - loss: 0.5822 - accuracy: 0.7814 - val_loss: 0.6244 - val_accuracy: 0.7114\n",
            "Epoch 183/250\n",
            "21/21 [==============================] - 0s 12ms/step - loss: 0.5822 - accuracy: 0.7631 - val_loss: 0.6289 - val_accuracy: 0.7047\n",
            "Epoch 184/250\n",
            "21/21 [==============================] - 0s 13ms/step - loss: 0.5946 - accuracy: 0.7310 - val_loss: 0.6230 - val_accuracy: 0.7248\n",
            "Epoch 185/250\n",
            "21/21 [==============================] - 0s 11ms/step - loss: 0.5701 - accuracy: 0.7864 - val_loss: 0.6230 - val_accuracy: 0.7248\n",
            "Epoch 186/250\n",
            "21/21 [==============================] - 0s 12ms/step - loss: 0.5744 - accuracy: 0.7747 - val_loss: 0.6284 - val_accuracy: 0.6913\n",
            "Epoch 187/250\n",
            "21/21 [==============================] - 0s 11ms/step - loss: 0.5818 - accuracy: 0.7646 - val_loss: 0.6269 - val_accuracy: 0.6913\n",
            "Epoch 188/250\n",
            "21/21 [==============================] - 0s 12ms/step - loss: 0.5700 - accuracy: 0.8016 - val_loss: 0.6216 - val_accuracy: 0.6913\n",
            "Epoch 189/250\n",
            "21/21 [==============================] - 0s 12ms/step - loss: 0.5741 - accuracy: 0.7554 - val_loss: 0.6214 - val_accuracy: 0.7181\n",
            "Epoch 190/250\n",
            "21/21 [==============================] - 0s 11ms/step - loss: 0.5815 - accuracy: 0.7596 - val_loss: 0.6275 - val_accuracy: 0.6913\n",
            "Epoch 191/250\n",
            "21/21 [==============================] - 0s 13ms/step - loss: 0.5805 - accuracy: 0.7799 - val_loss: 0.6252 - val_accuracy: 0.6980\n",
            "Epoch 192/250\n",
            "21/21 [==============================] - 0s 11ms/step - loss: 0.5932 - accuracy: 0.7725 - val_loss: 0.6215 - val_accuracy: 0.7248\n",
            "Epoch 193/250\n",
            "21/21 [==============================] - 0s 12ms/step - loss: 0.5679 - accuracy: 0.7859 - val_loss: 0.6188 - val_accuracy: 0.7248\n",
            "Epoch 194/250\n",
            "21/21 [==============================] - 0s 13ms/step - loss: 0.5738 - accuracy: 0.7750 - val_loss: 0.6237 - val_accuracy: 0.7114\n",
            "Epoch 195/250\n",
            "21/21 [==============================] - 0s 12ms/step - loss: 0.5762 - accuracy: 0.7750 - val_loss: 0.6219 - val_accuracy: 0.7114\n",
            "Epoch 196/250\n",
            "21/21 [==============================] - 0s 12ms/step - loss: 0.5649 - accuracy: 0.8252 - val_loss: 0.6191 - val_accuracy: 0.7047\n",
            "Epoch 197/250\n",
            "21/21 [==============================] - 0s 12ms/step - loss: 0.5855 - accuracy: 0.7524 - val_loss: 0.6270 - val_accuracy: 0.6980\n",
            "Epoch 198/250\n",
            "21/21 [==============================] - 0s 12ms/step - loss: 0.5755 - accuracy: 0.7832 - val_loss: 0.6179 - val_accuracy: 0.7114\n",
            "Epoch 199/250\n",
            "21/21 [==============================] - 0s 12ms/step - loss: 0.5710 - accuracy: 0.7695 - val_loss: 0.6236 - val_accuracy: 0.7181\n",
            "Epoch 200/250\n",
            "21/21 [==============================] - 0s 11ms/step - loss: 0.5717 - accuracy: 0.7934 - val_loss: 0.6189 - val_accuracy: 0.6980\n",
            "Epoch 201/250\n",
            "21/21 [==============================] - 0s 12ms/step - loss: 0.5716 - accuracy: 0.7840 - val_loss: 0.6223 - val_accuracy: 0.6980\n",
            "Epoch 202/250\n",
            "21/21 [==============================] - 0s 12ms/step - loss: 0.5706 - accuracy: 0.7873 - val_loss: 0.6171 - val_accuracy: 0.7114\n",
            "Epoch 203/250\n",
            "21/21 [==============================] - 0s 12ms/step - loss: 0.5635 - accuracy: 0.8044 - val_loss: 0.6171 - val_accuracy: 0.7315\n",
            "Epoch 204/250\n",
            "21/21 [==============================] - 0s 12ms/step - loss: 0.5657 - accuracy: 0.7895 - val_loss: 0.6174 - val_accuracy: 0.7114\n",
            "Epoch 205/250\n",
            "21/21 [==============================] - 0s 12ms/step - loss: 0.5588 - accuracy: 0.7929 - val_loss: 0.6161 - val_accuracy: 0.7114\n",
            "Epoch 206/250\n",
            "21/21 [==============================] - 0s 12ms/step - loss: 0.5686 - accuracy: 0.7896 - val_loss: 0.6174 - val_accuracy: 0.7181\n",
            "Epoch 207/250\n",
            "21/21 [==============================] - 0s 13ms/step - loss: 0.5622 - accuracy: 0.7896 - val_loss: 0.6168 - val_accuracy: 0.7181\n",
            "Epoch 208/250\n",
            "21/21 [==============================] - 0s 12ms/step - loss: 0.5716 - accuracy: 0.7900 - val_loss: 0.6193 - val_accuracy: 0.7047\n",
            "Epoch 209/250\n",
            "21/21 [==============================] - 0s 12ms/step - loss: 0.5683 - accuracy: 0.7778 - val_loss: 0.6229 - val_accuracy: 0.6779\n",
            "Epoch 210/250\n",
            "21/21 [==============================] - 0s 11ms/step - loss: 0.5653 - accuracy: 0.7888 - val_loss: 0.6190 - val_accuracy: 0.7047\n",
            "Epoch 211/250\n",
            "21/21 [==============================] - 0s 12ms/step - loss: 0.5611 - accuracy: 0.7924 - val_loss: 0.6178 - val_accuracy: 0.7047\n",
            "Epoch 212/250\n",
            "21/21 [==============================] - 0s 11ms/step - loss: 0.5635 - accuracy: 0.7928 - val_loss: 0.6199 - val_accuracy: 0.7248\n",
            "Epoch 213/250\n",
            "21/21 [==============================] - 0s 11ms/step - loss: 0.5610 - accuracy: 0.8031 - val_loss: 0.6172 - val_accuracy: 0.7114\n",
            "Epoch 214/250\n",
            "21/21 [==============================] - 0s 11ms/step - loss: 0.5777 - accuracy: 0.7786 - val_loss: 0.6267 - val_accuracy: 0.6644\n",
            "Epoch 215/250\n",
            "21/21 [==============================] - 0s 11ms/step - loss: 0.5669 - accuracy: 0.7778 - val_loss: 0.6190 - val_accuracy: 0.7315\n",
            "Epoch 216/250\n",
            "21/21 [==============================] - 0s 11ms/step - loss: 0.5678 - accuracy: 0.7796 - val_loss: 0.6152 - val_accuracy: 0.7181\n",
            "Epoch 217/250\n",
            "21/21 [==============================] - 0s 11ms/step - loss: 0.5826 - accuracy: 0.7585 - val_loss: 0.6184 - val_accuracy: 0.7248\n",
            "Epoch 218/250\n",
            "21/21 [==============================] - 0s 11ms/step - loss: 0.5507 - accuracy: 0.8256 - val_loss: 0.6272 - val_accuracy: 0.6577\n",
            "Epoch 219/250\n",
            "21/21 [==============================] - 0s 11ms/step - loss: 0.5577 - accuracy: 0.7921 - val_loss: 0.6181 - val_accuracy: 0.7047\n",
            "Epoch 220/250\n",
            "21/21 [==============================] - 0s 12ms/step - loss: 0.5649 - accuracy: 0.8016 - val_loss: 0.6158 - val_accuracy: 0.6980\n",
            "Epoch 221/250\n",
            "21/21 [==============================] - 0s 13ms/step - loss: 0.5556 - accuracy: 0.8132 - val_loss: 0.6186 - val_accuracy: 0.6913\n",
            "Epoch 222/250\n",
            "21/21 [==============================] - 0s 12ms/step - loss: 0.5673 - accuracy: 0.7986 - val_loss: 0.6166 - val_accuracy: 0.7315\n",
            "Epoch 223/250\n",
            "21/21 [==============================] - 0s 12ms/step - loss: 0.5720 - accuracy: 0.7770 - val_loss: 0.6132 - val_accuracy: 0.7181\n",
            "Epoch 224/250\n",
            "21/21 [==============================] - 0s 11ms/step - loss: 0.5576 - accuracy: 0.8057 - val_loss: 0.6144 - val_accuracy: 0.7181\n",
            "Epoch 225/250\n",
            "21/21 [==============================] - 0s 12ms/step - loss: 0.5513 - accuracy: 0.8250 - val_loss: 0.6201 - val_accuracy: 0.6846\n",
            "Epoch 226/250\n",
            "21/21 [==============================] - 0s 13ms/step - loss: 0.5515 - accuracy: 0.8290 - val_loss: 0.6097 - val_accuracy: 0.7181\n",
            "Epoch 227/250\n",
            "21/21 [==============================] - 0s 12ms/step - loss: 0.5606 - accuracy: 0.7814 - val_loss: 0.6135 - val_accuracy: 0.7181\n",
            "Epoch 228/250\n",
            "21/21 [==============================] - 0s 12ms/step - loss: 0.5565 - accuracy: 0.8050 - val_loss: 0.6095 - val_accuracy: 0.7248\n",
            "Epoch 229/250\n",
            "21/21 [==============================] - 0s 11ms/step - loss: 0.5779 - accuracy: 0.7609 - val_loss: 0.6182 - val_accuracy: 0.6913\n",
            "Epoch 230/250\n",
            "21/21 [==============================] - 0s 13ms/step - loss: 0.5562 - accuracy: 0.8104 - val_loss: 0.6089 - val_accuracy: 0.7450\n",
            "Epoch 231/250\n",
            "21/21 [==============================] - 0s 11ms/step - loss: 0.5577 - accuracy: 0.8021 - val_loss: 0.6132 - val_accuracy: 0.7450\n",
            "Epoch 232/250\n",
            "21/21 [==============================] - 0s 12ms/step - loss: 0.5638 - accuracy: 0.7929 - val_loss: 0.6225 - val_accuracy: 0.6577\n",
            "Epoch 233/250\n",
            "21/21 [==============================] - 0s 12ms/step - loss: 0.5649 - accuracy: 0.7876 - val_loss: 0.6075 - val_accuracy: 0.7315\n",
            "Epoch 234/250\n",
            "21/21 [==============================] - 0s 12ms/step - loss: 0.5685 - accuracy: 0.7808 - val_loss: 0.6118 - val_accuracy: 0.7315\n",
            "Epoch 235/250\n",
            "21/21 [==============================] - 0s 12ms/step - loss: 0.5560 - accuracy: 0.7999 - val_loss: 0.6104 - val_accuracy: 0.7248\n",
            "Epoch 236/250\n",
            "21/21 [==============================] - 0s 12ms/step - loss: 0.5441 - accuracy: 0.8311 - val_loss: 0.6080 - val_accuracy: 0.7315\n",
            "Epoch 237/250\n",
            "21/21 [==============================] - 0s 11ms/step - loss: 0.5519 - accuracy: 0.8158 - val_loss: 0.6086 - val_accuracy: 0.7248\n",
            "Epoch 238/250\n",
            "21/21 [==============================] - 0s 12ms/step - loss: 0.5663 - accuracy: 0.7690 - val_loss: 0.6097 - val_accuracy: 0.7517\n",
            "Epoch 239/250\n",
            "21/21 [==============================] - 0s 11ms/step - loss: 0.5590 - accuracy: 0.7830 - val_loss: 0.6118 - val_accuracy: 0.7383\n",
            "Epoch 240/250\n",
            "21/21 [==============================] - 0s 11ms/step - loss: 0.5645 - accuracy: 0.7770 - val_loss: 0.6096 - val_accuracy: 0.7383\n",
            "Epoch 241/250\n",
            "21/21 [==============================] - 0s 11ms/step - loss: 0.5493 - accuracy: 0.8179 - val_loss: 0.6213 - val_accuracy: 0.6376\n",
            "Epoch 242/250\n",
            "21/21 [==============================] - 0s 11ms/step - loss: 0.5531 - accuracy: 0.7938 - val_loss: 0.6124 - val_accuracy: 0.7315\n",
            "Epoch 243/250\n",
            "21/21 [==============================] - 0s 11ms/step - loss: 0.5490 - accuracy: 0.8104 - val_loss: 0.6081 - val_accuracy: 0.7383\n",
            "Epoch 244/250\n",
            "21/21 [==============================] - 0s 11ms/step - loss: 0.5479 - accuracy: 0.8157 - val_loss: 0.6075 - val_accuracy: 0.7517\n",
            "Epoch 245/250\n",
            "21/21 [==============================] - 0s 10ms/step - loss: 0.5540 - accuracy: 0.7909 - val_loss: 0.6085 - val_accuracy: 0.7450\n",
            "Epoch 246/250\n",
            "21/21 [==============================] - 0s 11ms/step - loss: 0.5608 - accuracy: 0.7832 - val_loss: 0.6137 - val_accuracy: 0.6913\n",
            "Epoch 247/250\n",
            "21/21 [==============================] - 0s 11ms/step - loss: 0.5432 - accuracy: 0.8243 - val_loss: 0.6173 - val_accuracy: 0.6644\n",
            "Epoch 248/250\n",
            "21/21 [==============================] - 0s 11ms/step - loss: 0.5625 - accuracy: 0.7742 - val_loss: 0.6145 - val_accuracy: 0.6980\n",
            "Epoch 249/250\n",
            "21/21 [==============================] - 0s 10ms/step - loss: 0.5559 - accuracy: 0.8131 - val_loss: 0.6144 - val_accuracy: 0.6846\n",
            "Epoch 250/250\n",
            "21/21 [==============================] - 0s 12ms/step - loss: 0.5492 - accuracy: 0.7989 - val_loss: 0.6067 - val_accuracy: 0.7517\n"
          ],
          "name": "stdout"
        }
      ]
    },
    {
      "cell_type": "code",
      "metadata": {
        "colab": {
          "base_uri": "https://localhost:8080/",
          "height": 573
        },
        "id": "R8F1NuzZf0ue",
        "outputId": "18e61026-4d83-4e3f-e8f2-8b585d32d7ab"
      },
      "source": [
        "plt.plot(apihistory.history['accuracy'])\n",
        "plt.plot(apihistory.history['val_accuracy'])\n",
        "plt.title('model acc')\n",
        "plt.ylabel('acc')\n",
        "plt.xlabel('epoch')\n",
        "plt.legend(['train', 'test'], loc='upper left')\n",
        "plt.show()\n",
        "\n",
        "plt.plot(apihistory.history['loss'])\n",
        "plt.plot(apihistory.history['val_loss'])\n",
        "plt.title('model loss')\n",
        "plt.ylabel('loss')\n",
        "plt.xlabel('epoch')\n",
        "plt.legend(['train', 'test'], loc='upper left')\n",
        "plt.show()"
      ],
      "execution_count": 82,
      "outputs": [
        {
          "output_type": "display_data",
          "data": {
            "image/png": "[encoded data removed]",
            "text/plain": [
              "<Figure size 432x288 with 1 Axes>"
            ]
          },
          "metadata": {
            "tags": [],
            "needs_background": "light"
          }
        },
        {
          "output_type": "display_data",
          "data": {
            "image/png": "[encoded data removed]",
            "text/plain": [
              "<Figure size 432x288 with 1 Axes>"
            ]
          },
          "metadata": {
            "tags": [],
            "needs_background": "light"
          }
        }
      ]
    },
    {
      "cell_type": "code",
      "metadata": {
        "colab": {
          "base_uri": "https://localhost:8080/"
        },
        "id": "qmFQcSCNlcbm",
        "outputId": "38314f34-08a3-4fad-ceef-d75d64f6e33b"
      },
      "source": [
        "score = model_funct_2in_1out.evaluate([xVal_text, x_valapi], y_val, verbose=0)\n",
        "print(\"%s: %.2f%%\" % (model_funct_2in_1out.metrics_names[1], score[1]*100))"
      ],
      "execution_count": 83,
      "outputs": [
        {
          "output_type": "stream",
          "text": [
            "accuracy: 67.12%\n"
          ],
          "name": "stdout"
        }
      ]
    },
    {
      "cell_type": "markdown",
      "metadata": {
        "id": "ihubEyCRf3xu"
      },
      "source": [
        "## Predicting emotions on the test data"
      ]
    },
    {
      "cell_type": "code",
      "metadata": {
        "colab": {
          "base_uri": "https://localhost:8080/"
        },
        "id": "rWy5vfjmf3xu",
        "outputId": "54ccc8aa-af55-43dd-df31-bd4358127430"
      },
      "source": [
        "preds = model_funct_2in_1out.predict([xVal_text, x_valapi], \n",
        "                         batch_size=32, \n",
        "                         verbose=1)"
      ],
      "execution_count": 93,
      "outputs": [
        {
          "output_type": "stream",
          "text": [
            "3/3 [==============================] - 0s 5ms/step\n"
          ],
          "name": "stdout"
        }
      ]
    },
    {
      "cell_type": "code",
      "metadata": {
        "colab": {
          "base_uri": "https://localhost:8080/"
        },
        "id": "rDi39jvof3xv",
        "outputId": "7ed0cc17-fb49-40dc-d834-aead3d8841aa"
      },
      "source": [
        "preds"
      ],
      "execution_count": 94,
      "outputs": [
        {
          "output_type": "execute_result",
          "data": {
            "text/plain": [
              "array([[0.41086796, 0.589132  ],\n",
              "       [0.21646051, 0.7835395 ],\n",
              "       [0.6196713 , 0.38032869],\n",
              "       [0.27479434, 0.7252057 ],\n",
              "       [0.48373076, 0.51626927],\n",
              "       [0.60149646, 0.39850354],\n",
              "       [0.40915912, 0.5908409 ],\n",
              "       [0.76234454, 0.2376555 ],\n",
              "       [0.6843233 , 0.31567672],\n",
              "       [0.62064487, 0.37935513],\n",
              "       [0.4701718 , 0.5298282 ],\n",
              "       [0.7915239 , 0.20847608],\n",
              "       [0.7501938 , 0.24980626],\n",
              "       [0.7790695 , 0.22093052],\n",
              "       [0.7587487 , 0.2412513 ],\n",
              "       [0.4092827 , 0.5907173 ],\n",
              "       [0.8252586 , 0.17474136],\n",
              "       [0.22670287, 0.77329713],\n",
              "       [0.256484  , 0.743516  ],\n",
              "       [0.7460064 , 0.2539936 ],\n",
              "       [0.7268197 , 0.27318028],\n",
              "       [0.72293794, 0.2770621 ],\n",
              "       [0.26134858, 0.73865145],\n",
              "       [0.8457639 , 0.15423606],\n",
              "       [0.6116588 , 0.38834116],\n",
              "       [0.30184755, 0.6981525 ],\n",
              "       [0.32375178, 0.67624825],\n",
              "       [0.28517416, 0.71482587],\n",
              "       [0.782632  , 0.21736807],\n",
              "       [0.8187963 , 0.18120374],\n",
              "       [0.6642523 , 0.33574778],\n",
              "       [0.7128917 , 0.28710833],\n",
              "       [0.51294106, 0.48705894],\n",
              "       [0.57173735, 0.42826265],\n",
              "       [0.25632688, 0.7436731 ],\n",
              "       [0.8392023 , 0.16079776],\n",
              "       [0.21814029, 0.7818597 ],\n",
              "       [0.55566794, 0.44433206],\n",
              "       [0.7970228 , 0.20297717],\n",
              "       [0.46345413, 0.5365459 ],\n",
              "       [0.39523515, 0.6047649 ],\n",
              "       [0.60464233, 0.39535767],\n",
              "       [0.8095792 , 0.1904208 ],\n",
              "       [0.27918416, 0.72081584],\n",
              "       [0.24283016, 0.7571699 ],\n",
              "       [0.62648755, 0.3735125 ],\n",
              "       [0.82106924, 0.17893082],\n",
              "       [0.7890047 , 0.21099533],\n",
              "       [0.5502732 , 0.4497268 ],\n",
              "       [0.3490728 , 0.6509272 ],\n",
              "       [0.7978038 , 0.2021962 ],\n",
              "       [0.40310687, 0.59689313],\n",
              "       [0.31975195, 0.680248  ],\n",
              "       [0.76542175, 0.23457828],\n",
              "       [0.22339463, 0.7766053 ],\n",
              "       [0.82051015, 0.17948982],\n",
              "       [0.6619437 , 0.3380563 ],\n",
              "       [0.6342511 , 0.3657489 ],\n",
              "       [0.82227826, 0.17772174],\n",
              "       [0.3210355 , 0.67896444],\n",
              "       [0.25579917, 0.7442008 ],\n",
              "       [0.6829097 , 0.31709027],\n",
              "       [0.59814906, 0.40185094],\n",
              "       [0.34063068, 0.6593693 ],\n",
              "       [0.24598007, 0.7540199 ],\n",
              "       [0.31040066, 0.68959934],\n",
              "       [0.5939409 , 0.4060591 ],\n",
              "       [0.48379114, 0.5162089 ],\n",
              "       [0.6681598 , 0.33184022],\n",
              "       [0.76553833, 0.23446171],\n",
              "       [0.4294344 , 0.5705656 ],\n",
              "       [0.82232386, 0.17767613],\n",
              "       [0.65165937, 0.34834057]], dtype=float32)"
            ]
          },
          "metadata": {
            "tags": []
          },
          "execution_count": 94
        }
      ]
    },
    {
      "cell_type": "code",
      "metadata": {
        "collapsed": true,
        "id": "eqVdXhhNf3xw"
      },
      "source": [
        "preds1=preds.argmax(axis=1)\n",
        "abc = preds1.astype(int).flatten()\n",
        "predictions = (decoded_labels(abc))"
      ],
      "execution_count": 95,
      "outputs": []
    },
    {
      "cell_type": "code",
      "metadata": {
        "id": "K8wI8nYtWdYA"
      },
      "source": [
        "# preds1 = [round(x[0]) for x in preds]\n",
        "# abc = preds1\n",
        "# predictions = (decoded_labels(abc))"
      ],
      "execution_count": 87,
      "outputs": []
    },
    {
      "cell_type": "code",
      "metadata": {
        "colab": {
          "base_uri": "https://localhost:8080/",
          "height": 359
        },
        "id": "brhDf8q4f3xx",
        "outputId": "230a629c-6ee5-4365-b142-8f3053eec326"
      },
      "source": [
        "preddf = pd.DataFrame({'predictedvalues': predictions})\n",
        "preddf[:10]"
      ],
      "execution_count": 96,
      "outputs": [
        {
          "output_type": "execute_result",
          "data": {
            "text/html": [
              "<div>\n",
              "<style scoped>\n",
              "    .dataframe tbody tr th:only-of-type {\n",
              "        vertical-align: middle;\n",
              "    }\n",
              "\n",
              "    .dataframe tbody tr th {\n",
              "        vertical-align: top;\n",
              "    }\n",
              "\n",
              "    .dataframe thead th {\n",
              "        text-align: right;\n",
              "    }\n",
              "</style>\n",
              "<table border=\"1\" class=\"dataframe\">\n",
              "  <thead>\n",
              "    <tr style=\"text-align: right;\">\n",
              "      <th></th>\n",
              "      <th>predictedvalues</th>\n",
              "    </tr>\n",
              "  </thead>\n",
              "  <tbody>\n",
              "    <tr>\n",
              "      <th>0</th>\n",
              "      <td>happy</td>\n",
              "    </tr>\n",
              "    <tr>\n",
              "      <th>1</th>\n",
              "      <td>happy</td>\n",
              "    </tr>\n",
              "    <tr>\n",
              "      <th>2</th>\n",
              "      <td>sad</td>\n",
              "    </tr>\n",
              "    <tr>\n",
              "      <th>3</th>\n",
              "      <td>happy</td>\n",
              "    </tr>\n",
              "    <tr>\n",
              "      <th>4</th>\n",
              "      <td>happy</td>\n",
              "    </tr>\n",
              "    <tr>\n",
              "      <th>5</th>\n",
              "      <td>sad</td>\n",
              "    </tr>\n",
              "    <tr>\n",
              "      <th>6</th>\n",
              "      <td>happy</td>\n",
              "    </tr>\n",
              "    <tr>\n",
              "      <th>7</th>\n",
              "      <td>sad</td>\n",
              "    </tr>\n",
              "    <tr>\n",
              "      <th>8</th>\n",
              "      <td>sad</td>\n",
              "    </tr>\n",
              "    <tr>\n",
              "      <th>9</th>\n",
              "      <td>sad</td>\n",
              "    </tr>\n",
              "  </tbody>\n",
              "</table>\n",
              "</div>"
            ],
            "text/plain": [
              "  predictedvalues\n",
              "0           happy\n",
              "1           happy\n",
              "2             sad\n",
              "3           happy\n",
              "4           happy\n",
              "5             sad\n",
              "6           happy\n",
              "7             sad\n",
              "8             sad\n",
              "9             sad"
            ]
          },
          "metadata": {
            "tags": []
          },
          "execution_count": 96
        }
      ]
    },
    {
      "cell_type": "code",
      "metadata": {
        "collapsed": true,
        "id": "5gQQs2oif3xx"
      },
      "source": [
        "actual=y_val.argmax(axis=1)\n",
        "abc123 = actual.astype(int).flatten()\n",
        "actualvalues = (decoded_labels(abc123))"
      ],
      "execution_count": 97,
      "outputs": []
    },
    {
      "cell_type": "code",
      "metadata": {
        "id": "w98G-RHeX5SI"
      },
      "source": [
        "# abc123 = [int(x) for x in yVal_text]\n",
        "# actualvalues = (decoded_labels(abc123))"
      ],
      "execution_count": 90,
      "outputs": []
    },
    {
      "cell_type": "code",
      "metadata": {
        "colab": {
          "base_uri": "https://localhost:8080/",
          "height": 359
        },
        "id": "muoQHYs7f3xy",
        "outputId": "7899e805-2058-4d48-c23d-235b87e8edc1"
      },
      "source": [
        "actualdf = pd.DataFrame({'actualvalues': actualvalues})\n",
        "actualdf[:10]"
      ],
      "execution_count": 98,
      "outputs": [
        {
          "output_type": "execute_result",
          "data": {
            "text/html": [
              "<div>\n",
              "<style scoped>\n",
              "    .dataframe tbody tr th:only-of-type {\n",
              "        vertical-align: middle;\n",
              "    }\n",
              "\n",
              "    .dataframe tbody tr th {\n",
              "        vertical-align: top;\n",
              "    }\n",
              "\n",
              "    .dataframe thead th {\n",
              "        text-align: right;\n",
              "    }\n",
              "</style>\n",
              "<table border=\"1\" class=\"dataframe\">\n",
              "  <thead>\n",
              "    <tr style=\"text-align: right;\">\n",
              "      <th></th>\n",
              "      <th>actualvalues</th>\n",
              "    </tr>\n",
              "  </thead>\n",
              "  <tbody>\n",
              "    <tr>\n",
              "      <th>0</th>\n",
              "      <td>happy</td>\n",
              "    </tr>\n",
              "    <tr>\n",
              "      <th>1</th>\n",
              "      <td>happy</td>\n",
              "    </tr>\n",
              "    <tr>\n",
              "      <th>2</th>\n",
              "      <td>sad</td>\n",
              "    </tr>\n",
              "    <tr>\n",
              "      <th>3</th>\n",
              "      <td>happy</td>\n",
              "    </tr>\n",
              "    <tr>\n",
              "      <th>4</th>\n",
              "      <td>sad</td>\n",
              "    </tr>\n",
              "    <tr>\n",
              "      <th>5</th>\n",
              "      <td>happy</td>\n",
              "    </tr>\n",
              "    <tr>\n",
              "      <th>6</th>\n",
              "      <td>sad</td>\n",
              "    </tr>\n",
              "    <tr>\n",
              "      <th>7</th>\n",
              "      <td>sad</td>\n",
              "    </tr>\n",
              "    <tr>\n",
              "      <th>8</th>\n",
              "      <td>happy</td>\n",
              "    </tr>\n",
              "    <tr>\n",
              "      <th>9</th>\n",
              "      <td>happy</td>\n",
              "    </tr>\n",
              "  </tbody>\n",
              "</table>\n",
              "</div>"
            ],
            "text/plain": [
              "  actualvalues\n",
              "0        happy\n",
              "1        happy\n",
              "2          sad\n",
              "3        happy\n",
              "4          sad\n",
              "5        happy\n",
              "6          sad\n",
              "7          sad\n",
              "8        happy\n",
              "9        happy"
            ]
          },
          "metadata": {
            "tags": []
          },
          "execution_count": 98
        }
      ]
    },
    {
      "cell_type": "code",
      "metadata": {
        "collapsed": true,
        "id": "HEGdi04cf3xy"
      },
      "source": [
        "finaldf = actualdf.join(preddf)"
      ],
      "execution_count": 99,
      "outputs": []
    },
    {
      "cell_type": "markdown",
      "metadata": {
        "id": "GsFbyKmQf8ow"
      },
      "source": [
        "## Actual v/s Predicted emotions"
      ]
    },
    {
      "cell_type": "code",
      "metadata": {
        "id": "uKhw2fFyf8ox",
        "colab": {
          "base_uri": "https://localhost:8080/",
          "height": 669
        },
        "outputId": "0999bf4e-b549-477c-ce31-b6905280fe7a"
      },
      "source": [
        "finaldf[0:20]"
      ],
      "execution_count": 100,
      "outputs": [
        {
          "output_type": "execute_result",
          "data": {
            "text/html": [
              "<div>\n",
              "<style scoped>\n",
              "    .dataframe tbody tr th:only-of-type {\n",
              "        vertical-align: middle;\n",
              "    }\n",
              "\n",
              "    .dataframe tbody tr th {\n",
              "        vertical-align: top;\n",
              "    }\n",
              "\n",
              "    .dataframe thead th {\n",
              "        text-align: right;\n",
              "    }\n",
              "</style>\n",
              "<table border=\"1\" class=\"dataframe\">\n",
              "  <thead>\n",
              "    <tr style=\"text-align: right;\">\n",
              "      <th></th>\n",
              "      <th>actualvalues</th>\n",
              "      <th>predictedvalues</th>\n",
              "    </tr>\n",
              "  </thead>\n",
              "  <tbody>\n",
              "    <tr>\n",
              "      <th>0</th>\n",
              "      <td>happy</td>\n",
              "      <td>happy</td>\n",
              "    </tr>\n",
              "    <tr>\n",
              "      <th>1</th>\n",
              "      <td>happy</td>\n",
              "      <td>happy</td>\n",
              "    </tr>\n",
              "    <tr>\n",
              "      <th>2</th>\n",
              "      <td>sad</td>\n",
              "      <td>sad</td>\n",
              "    </tr>\n",
              "    <tr>\n",
              "      <th>3</th>\n",
              "      <td>happy</td>\n",
              "      <td>happy</td>\n",
              "    </tr>\n",
              "    <tr>\n",
              "      <th>4</th>\n",
              "      <td>sad</td>\n",
              "      <td>happy</td>\n",
              "    </tr>\n",
              "    <tr>\n",
              "      <th>5</th>\n",
              "      <td>happy</td>\n",
              "      <td>sad</td>\n",
              "    </tr>\n",
              "    <tr>\n",
              "      <th>6</th>\n",
              "      <td>sad</td>\n",
              "      <td>happy</td>\n",
              "    </tr>\n",
              "    <tr>\n",
              "      <th>7</th>\n",
              "      <td>sad</td>\n",
              "      <td>sad</td>\n",
              "    </tr>\n",
              "    <tr>\n",
              "      <th>8</th>\n",
              "      <td>happy</td>\n",
              "      <td>sad</td>\n",
              "    </tr>\n",
              "    <tr>\n",
              "      <th>9</th>\n",
              "      <td>happy</td>\n",
              "      <td>sad</td>\n",
              "    </tr>\n",
              "    <tr>\n",
              "      <th>10</th>\n",
              "      <td>sad</td>\n",
              "      <td>happy</td>\n",
              "    </tr>\n",
              "    <tr>\n",
              "      <th>11</th>\n",
              "      <td>sad</td>\n",
              "      <td>sad</td>\n",
              "    </tr>\n",
              "    <tr>\n",
              "      <th>12</th>\n",
              "      <td>sad</td>\n",
              "      <td>sad</td>\n",
              "    </tr>\n",
              "    <tr>\n",
              "      <th>13</th>\n",
              "      <td>sad</td>\n",
              "      <td>sad</td>\n",
              "    </tr>\n",
              "    <tr>\n",
              "      <th>14</th>\n",
              "      <td>sad</td>\n",
              "      <td>sad</td>\n",
              "    </tr>\n",
              "    <tr>\n",
              "      <th>15</th>\n",
              "      <td>sad</td>\n",
              "      <td>happy</td>\n",
              "    </tr>\n",
              "    <tr>\n",
              "      <th>16</th>\n",
              "      <td>happy</td>\n",
              "      <td>sad</td>\n",
              "    </tr>\n",
              "    <tr>\n",
              "      <th>17</th>\n",
              "      <td>happy</td>\n",
              "      <td>happy</td>\n",
              "    </tr>\n",
              "    <tr>\n",
              "      <th>18</th>\n",
              "      <td>happy</td>\n",
              "      <td>happy</td>\n",
              "    </tr>\n",
              "    <tr>\n",
              "      <th>19</th>\n",
              "      <td>sad</td>\n",
              "      <td>sad</td>\n",
              "    </tr>\n",
              "  </tbody>\n",
              "</table>\n",
              "</div>"
            ],
            "text/plain": [
              "   actualvalues predictedvalues\n",
              "0         happy           happy\n",
              "1         happy           happy\n",
              "2           sad             sad\n",
              "3         happy           happy\n",
              "4           sad           happy\n",
              "5         happy             sad\n",
              "6           sad           happy\n",
              "7           sad             sad\n",
              "8         happy             sad\n",
              "9         happy             sad\n",
              "10          sad           happy\n",
              "11          sad             sad\n",
              "12          sad             sad\n",
              "13          sad             sad\n",
              "14          sad             sad\n",
              "15          sad           happy\n",
              "16        happy             sad\n",
              "17        happy           happy\n",
              "18        happy           happy\n",
              "19          sad             sad"
            ]
          },
          "metadata": {
            "tags": []
          },
          "execution_count": 100
        }
      ]
    },
    {
      "cell_type": "code",
      "metadata": {
        "colab": {
          "base_uri": "https://localhost:8080/",
          "height": 142
        },
        "id": "KTSiOTRrf8ox",
        "outputId": "e164ff5f-fa71-4c29-e900-86ae06fcf6dd"
      },
      "source": [
        "finaldf.groupby('actualvalues').count()"
      ],
      "execution_count": 101,
      "outputs": [
        {
          "output_type": "execute_result",
          "data": {
            "text/html": [
              "<div>\n",
              "<style scoped>\n",
              "    .dataframe tbody tr th:only-of-type {\n",
              "        vertical-align: middle;\n",
              "    }\n",
              "\n",
              "    .dataframe tbody tr th {\n",
              "        vertical-align: top;\n",
              "    }\n",
              "\n",
              "    .dataframe thead th {\n",
              "        text-align: right;\n",
              "    }\n",
              "</style>\n",
              "<table border=\"1\" class=\"dataframe\">\n",
              "  <thead>\n",
              "    <tr style=\"text-align: right;\">\n",
              "      <th></th>\n",
              "      <th>predictedvalues</th>\n",
              "    </tr>\n",
              "    <tr>\n",
              "      <th>actualvalues</th>\n",
              "      <th></th>\n",
              "    </tr>\n",
              "  </thead>\n",
              "  <tbody>\n",
              "    <tr>\n",
              "      <th>happy</th>\n",
              "      <td>32</td>\n",
              "    </tr>\n",
              "    <tr>\n",
              "      <th>sad</th>\n",
              "      <td>41</td>\n",
              "    </tr>\n",
              "  </tbody>\n",
              "</table>\n",
              "</div>"
            ],
            "text/plain": [
              "              predictedvalues\n",
              "actualvalues                 \n",
              "happy                      32\n",
              "sad                        41"
            ]
          },
          "metadata": {
            "tags": []
          },
          "execution_count": 101
        }
      ]
    },
    {
      "cell_type": "code",
      "metadata": {
        "colab": {
          "base_uri": "https://localhost:8080/",
          "height": 142
        },
        "id": "cO4hayxvf8ox",
        "outputId": "c45adbfd-77c1-4f4a-aba1-422354c0dc06"
      },
      "source": [
        "finaldf.groupby('predictedvalues').count()"
      ],
      "execution_count": 102,
      "outputs": [
        {
          "output_type": "execute_result",
          "data": {
            "text/html": [
              "<div>\n",
              "<style scoped>\n",
              "    .dataframe tbody tr th:only-of-type {\n",
              "        vertical-align: middle;\n",
              "    }\n",
              "\n",
              "    .dataframe tbody tr th {\n",
              "        vertical-align: top;\n",
              "    }\n",
              "\n",
              "    .dataframe thead th {\n",
              "        text-align: right;\n",
              "    }\n",
              "</style>\n",
              "<table border=\"1\" class=\"dataframe\">\n",
              "  <thead>\n",
              "    <tr style=\"text-align: right;\">\n",
              "      <th></th>\n",
              "      <th>actualvalues</th>\n",
              "    </tr>\n",
              "    <tr>\n",
              "      <th>predictedvalues</th>\n",
              "      <th></th>\n",
              "    </tr>\n",
              "  </thead>\n",
              "  <tbody>\n",
              "    <tr>\n",
              "      <th>happy</th>\n",
              "      <td>30</td>\n",
              "    </tr>\n",
              "    <tr>\n",
              "      <th>sad</th>\n",
              "      <td>43</td>\n",
              "    </tr>\n",
              "  </tbody>\n",
              "</table>\n",
              "</div>"
            ],
            "text/plain": [
              "                 actualvalues\n",
              "predictedvalues              \n",
              "happy                      30\n",
              "sad                        43"
            ]
          },
          "metadata": {
            "tags": []
          },
          "execution_count": 102
        }
      ]
    },
    {
      "cell_type": "markdown",
      "metadata": {
        "id": "4f_l0O1agCwl"
      },
      "source": [
        "## Confusion Matrix"
      ]
    },
    {
      "cell_type": "code",
      "metadata": {
        "id": "_3jfGAcDgCwm"
      },
      "source": [
        "confu_labels = ['happy','sad']"
      ],
      "execution_count": 103,
      "outputs": []
    },
    {
      "cell_type": "code",
      "metadata": {
        "id": "o3po0xmogCwm"
      },
      "source": [
        "from sklearn.metrics import confusion_matrix\n",
        "\n",
        "def create_confusion_matrix(width, center, matrix, labels):\n",
        "      wid = width\n",
        "      cen = center\n",
        "\n",
        "      for k in  range(len(labels)):\n",
        "        print(str().rjust(width) + labels[k], end='')\n",
        "\n",
        "      for i in range(len(matrix)):  \n",
        "        print('\\n')\n",
        "        s = ''  \n",
        "        for j in matrix[i]:    \n",
        "          s +=  str(j).center(cen)\n",
        "          s +=str().center(cen)     \n",
        "        print(labels[i] +str().center(cen)+ s)  \n",
        "        \n",
        "        audio_predict = confusion_matrix(actual,  preds1)\n",
        "        create_confusion_matrix(6,4,audio_predict, confu_labels)"
      ],
      "execution_count": 104,
      "outputs": []
    },
    {
      "cell_type": "code",
      "metadata": {
        "colab": {
          "base_uri": "https://localhost:8080/",
          "height": 330
        },
        "id": "aK9RYhF0gCwm",
        "outputId": "95968ff9-26f2-49f0-c7a7-2c10fea53f72"
      },
      "source": [
        "from sklearn.metrics import confusion_matrix, ConfusionMatrixDisplay\n",
        "fig, ax = plt.subplots(figsize=(5, 5))\n",
        "cm = confusion_matrix(actualvalues,  predictions)\n",
        "disp = ConfusionMatrixDisplay(confusion_matrix=cm, display_labels=confu_labels)\n",
        "ax.set_xticklabels([''] + confu_labels)\n",
        "ax.set_yticklabels([''] + confu_labels)\n",
        "disp.plot(ax=ax) "
      ],
      "execution_count": 105,
      "outputs": [
        {
          "output_type": "execute_result",
          "data": {
            "text/plain": [
              "<sklearn.metrics._plot.confusion_matrix.ConfusionMatrixDisplay at 0x7fdd70540b50>"
            ]
          },
          "metadata": {
            "tags": []
          },
          "execution_count": 105
        },
        {
          "output_type": "display_data",
          "data": {
            "image/png": "[encoded data removed]",
            "text/plain": [
              "<Figure size 360x360 with 2 Axes>"
            ]
          },
          "metadata": {
            "tags": [],
            "needs_background": "light"
          }
        }
      ]
    },
    {
      "cell_type": "code",
      "metadata": {
        "id": "0Z4nW5mbmr86"
      },
      "source": [
        "model_funct_2in_1out.save('model_funct_2in_1out_67acc_slightly_beter.h5')"
      ],
      "execution_count": 151,
      "outputs": []
    },
    {
      "cell_type": "markdown",
      "metadata": {
        "id": "ZXFCdqYd7dUH"
      },
      "source": [
        "# Live Demo Testing"
      ]
    },
    {
      "cell_type": "code",
      "metadata": {
        "colab": {
          "base_uri": "https://localhost:8080/"
        },
        "id": "fdf-mO677izu",
        "outputId": "28ccf11f-a8c7-4683-fb9b-27808cc24497"
      },
      "source": [
        "!pip install ffmpeg-python\n",
        "!pip install SpeechRecognition"
      ],
      "execution_count": 107,
      "outputs": [
        {
          "output_type": "stream",
          "text": [
            "Collecting ffmpeg-python\n",
            "  Downloading https://files.pythonhosted.org/packages/d7/0c/56be52741f75bad4dc6555991fabd2e07b432d333da82c11ad701123888a/ffmpeg_python-0.2.0-py3-none-any.whl\n",
            "Requirement already satisfied: future in /usr/local/lib/python3.7/dist-packages (from ffmpeg-python) (0.16.0)\n",
            "Installing collected packages: ffmpeg-python\n",
            "Successfully installed ffmpeg-python-0.2.0\n",
            "Collecting SpeechRecognition\n",
            "\u001b[?25l  Downloading https://files.pythonhosted.org/packages/26/e1/7f5678cd94ec1234269d23756dbdaa4c8cfaed973412f88ae8adf7893a50/SpeechRecognition-3.8.1-py2.py3-none-any.whl (32.8MB)\n",
            "\u001b[K     |████████████████████████████████| 32.8MB 93kB/s \n",
            "\u001b[?25hInstalling collected packages: SpeechRecognition\n",
            "Successfully installed SpeechRecognition-3.8.1\n"
          ],
          "name": "stdout"
        }
      ]
    },
    {
      "cell_type": "markdown",
      "metadata": {
        "id": "18LC9-ax8DLg"
      },
      "source": [
        "## Recording and Saving Audio to .wav file"
      ]
    },
    {
      "cell_type": "code",
      "metadata": {
        "id": "eJQ1rVg671JW"
      },
      "source": [
        "\"\"\"\n",
        "Original Source for this code: https://ricardodeazambuja.com/deep_learning/2019/03/09/audio_and_video_google_colab/\n",
        "To write this piece of code I took inspiration/code from a lot of places.\n",
        "It was late night, so I'm not sure how much I created or just copied o.O\n",
        "Here are some of the possible references:\n",
        "https://blog.addpipe.com/recording-audio-in-the-browser-using-pure-html5-and-minimal-javascript/\n",
        "https://stackoverflow.com/a/18650249\n",
        "https://hacks.mozilla.org/2014/06/easy-audio-capture-with-the-mediarecorder-api/\n",
        "https://air.ghost.io/recording-to-an-audio-file-using-html5-and-js/\n",
        "https://stackoverflow.com/a/49019356\n",
        "\"\"\"\n",
        "from IPython.display import HTML, Audio\n",
        "from google.colab.output import eval_js\n",
        "from base64 import b64decode\n",
        "import numpy as np\n",
        "from scipy.io.wavfile import read as wav_read, write\n",
        "import io\n",
        "import ffmpeg\n",
        "\n",
        "AUDIO_HTML = \"\"\"\n",
        "<script>\n",
        "var my_div = document.createElement(\"DIV\");\n",
        "var my_p = document.createElement(\"P\");\n",
        "var my_btn = document.createElement(\"BUTTON\");\n",
        "var t = document.createTextNode(\"Press to start recording\");\n",
        "\n",
        "my_btn.appendChild(t);\n",
        "//my_p.appendChild(my_btn);\n",
        "my_div.appendChild(my_btn);\n",
        "document.body.appendChild(my_div);\n",
        "\n",
        "var base64data = 0;\n",
        "var reader;\n",
        "var recorder, gumStream;\n",
        "var recordButton = my_btn;\n",
        "\n",
        "var handleSuccess = function(stream) {\n",
        "  gumStream = stream;\n",
        "  var options = {\n",
        "    //bitsPerSecond: 8000, //chrome seems to ignore, always 48k\n",
        "    mimeType : 'audio/webm;codecs=opus'\n",
        "    //mimeType : 'audio/webm;codecs=pcm'\n",
        "  };            \n",
        "  //recorder = new MediaRecorder(stream, options);\n",
        "  recorder = new MediaRecorder(stream);\n",
        "  recorder.ondataavailable = function(e) {            \n",
        "    var url = URL.createObjectURL(e.data);\n",
        "    var preview = document.createElement('audio');\n",
        "    preview.controls = true;\n",
        "    preview.src = url;\n",
        "    document.body.appendChild(preview);\n",
        "\n",
        "    reader = new FileReader();\n",
        "    reader.readAsDataURL(e.data); \n",
        "    reader.onloadend = function() {\n",
        "      base64data = reader.result;\n",
        "      //console.log(\"Inside FileReader:\" + base64data);\n",
        "    }\n",
        "  };\n",
        "  recorder.start();\n",
        "  };\n",
        "\n",
        "recordButton.innerText = \"Recording... press to stop\";\n",
        "\n",
        "navigator.mediaDevices.getUserMedia({audio: true}).then(handleSuccess);\n",
        "\n",
        "\n",
        "function toggleRecording() {\n",
        "  if (recorder && recorder.state == \"recording\") {\n",
        "      recorder.stop();\n",
        "      gumStream.getAudioTracks()[0].stop();\n",
        "      recordButton.innerText = \"Saving the recording... pls wait!\"\n",
        "  }\n",
        "}\n",
        "\n",
        "// https://stackoverflow.com/a/951057\n",
        "function sleep(ms) {\n",
        "  return new Promise(resolve => setTimeout(resolve, ms));\n",
        "}\n",
        "\n",
        "var data = new Promise(resolve=>{\n",
        "//recordButton.addEventListener(\"click\", toggleRecording);\n",
        "recordButton.onclick = ()=>{\n",
        "toggleRecording()\n",
        "\n",
        "sleep(2000).then(() => {\n",
        "  // wait 2000ms for the data to be available...\n",
        "  // ideally this should use something like await...\n",
        "  //console.log(\"Inside data:\" + base64data)\n",
        "  resolve(base64data.toString())\n",
        "\n",
        "});\n",
        "\n",
        "}\n",
        "});\n",
        "      \n",
        "</script>\n",
        "\"\"\"\n",
        "\n",
        "def get_audio():\n",
        "  display(HTML(AUDIO_HTML))\n",
        "  data = eval_js(\"data\")\n",
        "  binary = b64decode(data.split(',')[1])\n",
        "  \n",
        "  process = (ffmpeg\n",
        "    .input('pipe:0')\n",
        "    .output('pipe:1', format='wav')\n",
        "    .run_async(pipe_stdin=True, pipe_stdout=True, pipe_stderr=True, quiet=True, overwrite_output=True)\n",
        "  )\n",
        "  output, err = process.communicate(input=binary)\n",
        "  \n",
        "  riff_chunk_size = len(output) - 8\n",
        "  # Break up the chunk size into four bytes, held in b.\n",
        "  q = riff_chunk_size\n",
        "  b = []\n",
        "  for i in range(4):\n",
        "      q, r = divmod(q, 256)\n",
        "      b.append(r)\n",
        "\n",
        "  # Replace bytes 4:8 in proc.stdout with the actual size of the RIFF chunk.\n",
        "  riff = output[:4] + bytes(b) + output[8:]\n",
        "  \n",
        "  sr, audio = wav_read(io.BytesIO(riff))\n",
        "\n",
        " \n",
        "  write(\"example.wav\", sr, audio)\n",
        "\n",
        "\n",
        "  return audio, sr"
      ],
      "execution_count": 109,
      "outputs": []
    },
    {
      "cell_type": "code",
      "metadata": {
        "colab": {
          "base_uri": "https://localhost:8080/",
          "height": 96
        },
        "id": "lySr_hP172md",
        "outputId": "c171ea3f-8761-4085-8c1c-24df804a1b4c"
      },
      "source": [
        "audio, sr = get_audio()"
      ],
      "execution_count": 215,
      "outputs": [
        {
          "output_type": "display_data",
          "data": {
            "text/html": [
              "\n",
              "<script>\n",
              "var my_div = document.createElement(\"DIV\");\n",
              "var my_p = document.createElement(\"P\");\n",
              "var my_btn = document.createElement(\"BUTTON\");\n",
              "var t = document.createTextNode(\"Press to start recording\");\n",
              "\n",
              "my_btn.appendChild(t);\n",
              "//my_p.appendChild(my_btn);\n",
              "my_div.appendChild(my_btn);\n",
              "document.body.appendChild(my_div);\n",
              "\n",
              "var base64data = 0;\n",
              "var reader;\n",
              "var recorder, gumStream;\n",
              "var recordButton = my_btn;\n",
              "\n",
              "var handleSuccess = function(stream) {\n",
              "  gumStream = stream;\n",
              "  var options = {\n",
              "    //bitsPerSecond: 8000, //chrome seems to ignore, always 48k\n",
              "    mimeType : 'audio/webm;codecs=opus'\n",
              "    //mimeType : 'audio/webm;codecs=pcm'\n",
              "  };            \n",
              "  //recorder = new MediaRecorder(stream, options);\n",
              "  recorder = new MediaRecorder(stream);\n",
              "  recorder.ondataavailable = function(e) {            \n",
              "    var url = URL.createObjectURL(e.data);\n",
              "    var preview = document.createElement('audio');\n",
              "    preview.controls = true;\n",
              "    preview.src = url;\n",
              "    document.body.appendChild(preview);\n",
              "\n",
              "    reader = new FileReader();\n",
              "    reader.readAsDataURL(e.data); \n",
              "    reader.onloadend = function() {\n",
              "      base64data = reader.result;\n",
              "      //console.log(\"Inside FileReader:\" + base64data);\n",
              "    }\n",
              "  };\n",
              "  recorder.start();\n",
              "  };\n",
              "\n",
              "recordButton.innerText = \"Recording... press to stop\";\n",
              "\n",
              "navigator.mediaDevices.getUserMedia({audio: true}).then(handleSuccess);\n",
              "\n",
              "\n",
              "function toggleRecording() {\n",
              "  if (recorder && recorder.state == \"recording\") {\n",
              "      recorder.stop();\n",
              "      gumStream.getAudioTracks()[0].stop();\n",
              "      recordButton.innerText = \"Saving the recording... pls wait!\"\n",
              "  }\n",
              "}\n",
              "\n",
              "// https://stackoverflow.com/a/951057\n",
              "function sleep(ms) {\n",
              "  return new Promise(resolve => setTimeout(resolve, ms));\n",
              "}\n",
              "\n",
              "var data = new Promise(resolve=>{\n",
              "//recordButton.addEventListener(\"click\", toggleRecording);\n",
              "recordButton.onclick = ()=>{\n",
              "toggleRecording()\n",
              "\n",
              "sleep(2000).then(() => {\n",
              "  // wait 2000ms for the data to be available...\n",
              "  // ideally this should use something like await...\n",
              "  //console.log(\"Inside data:\" + base64data)\n",
              "  resolve(base64data.toString())\n",
              "\n",
              "});\n",
              "\n",
              "}\n",
              "});\n",
              "      \n",
              "</script>\n"
            ],
            "text/plain": [
              "<IPython.core.display.HTML object>"
            ]
          },
          "metadata": {
            "tags": []
          }
        }
      ]
    },
    {
      "cell_type": "code",
      "metadata": {
        "colab": {
          "base_uri": "https://localhost:8080/",
          "height": 592
        },
        "id": "9waJcRQs74GU",
        "outputId": "4ca0e72f-5c45-4e92-9ff4-0cb4dc7ad831"
      },
      "source": [
        "plt.figure(figsize=(20,10))\n",
        "plt.plot(audio)\n",
        "plt.show()"
      ],
      "execution_count": 216,
      "outputs": [
        {
          "output_type": "display_data",
          "data": {
            "image/png": "[encoded data removed]",
            "text/plain": [
              "<Figure size 1440x720 with 1 Axes>"
            ]
          },
          "metadata": {
            "tags": [],
            "needs_background": "light"
          }
        }
      ]
    },
    {
      "cell_type": "markdown",
      "metadata": {
        "id": "HryFMOH88KRv"
      },
      "source": [
        "## Transcribing Audio file to text/string"
      ]
    },
    {
      "cell_type": "code",
      "metadata": {
        "colab": {
          "base_uri": "https://localhost:8080/"
        },
        "id": "f-tgn20W7-_2",
        "outputId": "4006cf79-5398-4447-e3ba-5bc87227666b"
      },
      "source": [
        "\"\"\" \n",
        "Source for transcribing audio: https://docs.scipy.org/doc/scipy/reference/generated/scipy.io.wavfile.write.html\n",
        "\"\"\"\n",
        "#import library\n",
        "import speech_recognition as sr\n",
        "\n",
        "# Initialize recognizer class (for recognizing the speech)\n",
        "r = sr.Recognizer()\n",
        "\n",
        "# Reading Audio file as source\n",
        "# listening the audio file and store in audio_text variable\n",
        "\n",
        "with sr.AudioFile('/content/example.wav') as source:\n",
        "    \n",
        "    audio_text = r.listen(source)\n",
        "    \n",
        "# recoginize_() method will throw a request error if the API is unreachable, hence using exception handling\n",
        "    try:\n",
        "        \n",
        "        # using google speech recognition\n",
        "        text = r.recognize_google(audio_text)\n",
        "        print('Converting audio transcripts into text ...')\n",
        "        print(text)\n",
        "     \n",
        "    except:\n",
        "         print('Sorry.. run again...')"
      ],
      "execution_count": 217,
      "outputs": [
        {
          "output_type": "stream",
          "text": [
            "Converting audio transcripts into text ...\n",
            "hey I'm feeling really better right now let's go outside and play\n"
          ],
          "name": "stdout"
        }
      ]
    },
    {
      "cell_type": "markdown",
      "metadata": {
        "id": "ZxtEAQKW8d-O"
      },
      "source": [
        "## Preprocess Text"
      ]
    },
    {
      "cell_type": "code",
      "metadata": {
        "colab": {
          "base_uri": "https://localhost:8080/"
        },
        "id": "4PtRLkam8g6X",
        "outputId": "917bfd6c-28b2-49a1-d0f8-98592328965c"
      },
      "source": [
        "tokenizer = Tokenizer(num_words = 100)\n",
        "sentences =[]\n",
        "sentences.append(text)\n",
        "print(sentences)\n",
        "\n",
        "# the tokenizer also removes punctuations\n",
        "tokenizer.fit_on_texts(sentences)  \n",
        "word_index = tokenizer.word_index\n",
        "sequences = tokenizer.texts_to_sequences(sentences)\n",
        "print(\"Word Index: \", word_index)\n",
        "print(\"Sequences: \", sequences)\n",
        "  \n",
        "# defining a placeholder token and naming it as placeholder\n",
        "tokenizer = Tokenizer(num_words=100, \n",
        "                      oov_token=\"placeholder\")\n",
        "tokenizer.fit_on_texts(sentences)\n",
        "word_index = tokenizer.word_index\n",
        "  \n",
        "  \n",
        "sequences = tokenizer.texts_to_sequences(sentences)\n",
        "print(\"\\nSequences = \", sequences) \n",
        "\n",
        "seq = vectorize_sequences(sequences)"
      ],
      "execution_count": 218,
      "outputs": [
        {
          "output_type": "stream",
          "text": [
            "[\"hey I'm feeling really better right now let's go outside and play\"]\n",
            "Word Index:  {'hey': 1, \"i'm\": 2, 'feeling': 3, 'really': 4, 'better': 5, 'right': 6, 'now': 7, \"let's\": 8, 'go': 9, 'outside': 10, 'and': 11, 'play': 12}\n",
            "Sequences:  [[1, 2, 3, 4, 5, 6, 7, 8, 9, 10, 11, 12]]\n",
            "\n",
            "Sequences =  [[2, 3, 4, 5, 6, 7, 8, 9, 10, 11, 12, 13]]\n"
          ],
          "name": "stdout"
        }
      ]
    },
    {
      "cell_type": "markdown",
      "metadata": {
        "id": "mUImyySU8t8d"
      },
      "source": [
        "## Preprocess Audio"
      ]
    },
    {
      "cell_type": "code",
      "metadata": {
        "id": "9J3DMRqM8qx1"
      },
      "source": [
        " df_test = pd.DataFrame(columns=['feature'])\n",
        "bookmark=0\n",
        "test_audio = '/content/example.wav'\n",
        "X, sample_rate = librosa.load(test_audio, res_type='kaiser_fast',duration=2.5,sr=22050*2,offset=0.5)\n",
        "sample_rate = np.array(sample_rate)\n",
        "mfccs = np.mean(librosa.feature.mfcc(y=X, \n",
        "                                    sr=sample_rate, \n",
        "                                    n_mfcc=13),\n",
        "                axis=0)\n",
        "feature = mfccs\n",
        "#[float(i) for i in feature]\n",
        "#feature1=feature[:135]\n",
        "df_test.loc[bookmark] = [feature]\n",
        "bookmark=bookmark+1      "
      ],
      "execution_count": 219,
      "outputs": []
    },
    {
      "cell_type": "code",
      "metadata": {
        "id": "UGtR4JLK8x9n"
      },
      "source": [
        "df_test2 = pd.DataFrame(df_test['feature'].values.tolist())"
      ],
      "execution_count": 220,
      "outputs": []
    },
    {
      "cell_type": "code",
      "metadata": {
        "id": "wScfCAOq8y9v"
      },
      "source": [
        "df_test2 = df_test2.fillna(0)"
      ],
      "execution_count": 221,
      "outputs": []
    },
    {
      "cell_type": "code",
      "metadata": {
        "colab": {
          "base_uri": "https://localhost:8080/",
          "height": 0
        },
        "id": "bA0qupFTFwVy",
        "outputId": "048878a2-8b00-4acf-f9a6-4d07cde862c2"
      },
      "source": [
        "df_test2"
      ],
      "execution_count": 222,
      "outputs": [
        {
          "output_type": "execute_result",
          "data": {
            "text/html": [
              "<div>\n",
              "<style scoped>\n",
              "    .dataframe tbody tr th:only-of-type {\n",
              "        vertical-align: middle;\n",
              "    }\n",
              "\n",
              "    .dataframe tbody tr th {\n",
              "        vertical-align: top;\n",
              "    }\n",
              "\n",
              "    .dataframe thead th {\n",
              "        text-align: right;\n",
              "    }\n",
              "</style>\n",
              "<table border=\"1\" class=\"dataframe\">\n",
              "  <thead>\n",
              "    <tr style=\"text-align: right;\">\n",
              "      <th></th>\n",
              "      <th>0</th>\n",
              "      <th>1</th>\n",
              "      <th>2</th>\n",
              "      <th>3</th>\n",
              "      <th>4</th>\n",
              "      <th>5</th>\n",
              "      <th>6</th>\n",
              "      <th>7</th>\n",
              "      <th>8</th>\n",
              "      <th>9</th>\n",
              "      <th>10</th>\n",
              "      <th>11</th>\n",
              "      <th>12</th>\n",
              "      <th>13</th>\n",
              "      <th>14</th>\n",
              "      <th>15</th>\n",
              "      <th>16</th>\n",
              "      <th>17</th>\n",
              "      <th>18</th>\n",
              "      <th>19</th>\n",
              "      <th>20</th>\n",
              "      <th>21</th>\n",
              "      <th>22</th>\n",
              "      <th>23</th>\n",
              "      <th>24</th>\n",
              "      <th>25</th>\n",
              "      <th>26</th>\n",
              "      <th>27</th>\n",
              "      <th>28</th>\n",
              "      <th>29</th>\n",
              "      <th>30</th>\n",
              "      <th>31</th>\n",
              "      <th>32</th>\n",
              "      <th>33</th>\n",
              "      <th>34</th>\n",
              "      <th>35</th>\n",
              "      <th>36</th>\n",
              "      <th>37</th>\n",
              "      <th>38</th>\n",
              "      <th>39</th>\n",
              "      <th>...</th>\n",
              "      <th>176</th>\n",
              "      <th>177</th>\n",
              "      <th>178</th>\n",
              "      <th>179</th>\n",
              "      <th>180</th>\n",
              "      <th>181</th>\n",
              "      <th>182</th>\n",
              "      <th>183</th>\n",
              "      <th>184</th>\n",
              "      <th>185</th>\n",
              "      <th>186</th>\n",
              "      <th>187</th>\n",
              "      <th>188</th>\n",
              "      <th>189</th>\n",
              "      <th>190</th>\n",
              "      <th>191</th>\n",
              "      <th>192</th>\n",
              "      <th>193</th>\n",
              "      <th>194</th>\n",
              "      <th>195</th>\n",
              "      <th>196</th>\n",
              "      <th>197</th>\n",
              "      <th>198</th>\n",
              "      <th>199</th>\n",
              "      <th>200</th>\n",
              "      <th>201</th>\n",
              "      <th>202</th>\n",
              "      <th>203</th>\n",
              "      <th>204</th>\n",
              "      <th>205</th>\n",
              "      <th>206</th>\n",
              "      <th>207</th>\n",
              "      <th>208</th>\n",
              "      <th>209</th>\n",
              "      <th>210</th>\n",
              "      <th>211</th>\n",
              "      <th>212</th>\n",
              "      <th>213</th>\n",
              "      <th>214</th>\n",
              "      <th>215</th>\n",
              "    </tr>\n",
              "  </thead>\n",
              "  <tbody>\n",
              "    <tr>\n",
              "      <th>0</th>\n",
              "      <td>-17.420244</td>\n",
              "      <td>-15.141618</td>\n",
              "      <td>-15.769557</td>\n",
              "      <td>-19.331205</td>\n",
              "      <td>-25.804277</td>\n",
              "      <td>-27.728689</td>\n",
              "      <td>-31.582857</td>\n",
              "      <td>-35.928169</td>\n",
              "      <td>-39.252884</td>\n",
              "      <td>-39.871948</td>\n",
              "      <td>-40.312881</td>\n",
              "      <td>-39.011974</td>\n",
              "      <td>-36.907455</td>\n",
              "      <td>-36.055801</td>\n",
              "      <td>-36.081608</td>\n",
              "      <td>-35.94215</td>\n",
              "      <td>-38.019291</td>\n",
              "      <td>-40.391811</td>\n",
              "      <td>-40.5546</td>\n",
              "      <td>-41.866062</td>\n",
              "      <td>-42.777519</td>\n",
              "      <td>-38.891739</td>\n",
              "      <td>-38.89595</td>\n",
              "      <td>-41.616451</td>\n",
              "      <td>-39.598999</td>\n",
              "      <td>-39.60944</td>\n",
              "      <td>-40.530434</td>\n",
              "      <td>-40.704594</td>\n",
              "      <td>-37.408848</td>\n",
              "      <td>-35.478703</td>\n",
              "      <td>-35.454216</td>\n",
              "      <td>-32.683861</td>\n",
              "      <td>-32.758713</td>\n",
              "      <td>-35.247772</td>\n",
              "      <td>-39.189137</td>\n",
              "      <td>-41.779335</td>\n",
              "      <td>-40.774189</td>\n",
              "      <td>-40.047241</td>\n",
              "      <td>-39.603882</td>\n",
              "      <td>-40.081383</td>\n",
              "      <td>...</td>\n",
              "      <td>-8.970063</td>\n",
              "      <td>-9.140489</td>\n",
              "      <td>-8.970755</td>\n",
              "      <td>-8.645553</td>\n",
              "      <td>-8.564213</td>\n",
              "      <td>-8.789498</td>\n",
              "      <td>-8.779275</td>\n",
              "      <td>-11.896331</td>\n",
              "      <td>-17.883486</td>\n",
              "      <td>-21.847322</td>\n",
              "      <td>-22.876644</td>\n",
              "      <td>-30.16901</td>\n",
              "      <td>-36.008011</td>\n",
              "      <td>-39.328224</td>\n",
              "      <td>-39.345444</td>\n",
              "      <td>-34.428574</td>\n",
              "      <td>-18.109394</td>\n",
              "      <td>-9.908668</td>\n",
              "      <td>-6.231001</td>\n",
              "      <td>-5.598437</td>\n",
              "      <td>-5.48525</td>\n",
              "      <td>-3.065858</td>\n",
              "      <td>0.543221</td>\n",
              "      <td>0.90936</td>\n",
              "      <td>-2.00245</td>\n",
              "      <td>-9.50891</td>\n",
              "      <td>-16.775139</td>\n",
              "      <td>-18.772079</td>\n",
              "      <td>-18.885492</td>\n",
              "      <td>-23.683483</td>\n",
              "      <td>-32.012699</td>\n",
              "      <td>-32.099312</td>\n",
              "      <td>-24.026119</td>\n",
              "      <td>-15.030543</td>\n",
              "      <td>-7.812839</td>\n",
              "      <td>-4.901535</td>\n",
              "      <td>-5.216444</td>\n",
              "      <td>-7.062154</td>\n",
              "      <td>-4.054018</td>\n",
              "      <td>-2.33706</td>\n",
              "    </tr>\n",
              "  </tbody>\n",
              "</table>\n",
              "<p>1 rows × 216 columns</p>\n",
              "</div>"
            ],
            "text/plain": [
              "         0          1          2    ...       213       214      215\n",
              "0 -17.420244 -15.141618 -15.769557  ... -7.062154 -4.054018 -2.33706\n",
              "\n",
              "[1 rows x 216 columns]"
            ]
          },
          "metadata": {
            "tags": []
          },
          "execution_count": 222
        }
      ]
    },
    {
      "cell_type": "code",
      "metadata": {
        "id": "FxNJWgiE80vV"
      },
      "source": [
        "test_voice = np.expand_dims(df_test2, axis=2)"
      ],
      "execution_count": 223,
      "outputs": []
    },
    {
      "cell_type": "markdown",
      "metadata": {
        "id": "3sE3rDps83Wt"
      },
      "source": [
        "## Load model"
      ]
    },
    {
      "cell_type": "markdown",
      "metadata": {
        "id": "bkEBskkI43c1"
      },
      "source": [
        "### Use saved model"
      ]
    },
    {
      "cell_type": "code",
      "metadata": {
        "id": "Dw0_F_ff82ed"
      },
      "source": [
        "test_model = keras.models.load_model('/content/model_funct_2in_1out_67acc_slightly_beter.h5')"
      ],
      "execution_count": 192,
      "outputs": []
    },
    {
      "cell_type": "markdown",
      "metadata": {
        "id": "Lgb3QIJG5AB_"
      },
      "source": [
        "### Use model just trained"
      ]
    },
    {
      "cell_type": "code",
      "metadata": {
        "id": "gFymWdaySjjC"
      },
      "source": [
        "preds = test_model.predict([seq, test_voice], verbose=0)"
      ],
      "execution_count": null,
      "outputs": []
    },
    {
      "cell_type": "markdown",
      "metadata": {
        "id": "vwVk8TZ389Dl"
      },
      "source": [
        "## Make prediction"
      ]
    },
    {
      "cell_type": "markdown",
      "metadata": {
        "id": "nUXbuQW-ZvZb"
      },
      "source": [
        "### Target outputs are Audio labels"
      ]
    },
    {
      "cell_type": "code",
      "metadata": {
        "id": "z38zbH12HDwP"
      },
      "source": [
        "pred_live = model_funct_2in_1out.predict([seq, test_voice], verbose=0)\n",
        "preds1=np.argmax(pred_live)\n",
        "labels=['Sad','Happy']\n",
        "PRED_LBL = preds1\n",
        "display(labels[PRED_LBL])\n",
        "display('Sad Measurement: ' + str(pred_live[0][0]))\n",
        "display('Happy Measurement: ' + str(pred_live[0][1]))"
      ],
      "execution_count": null,
      "outputs": []
    },
    {
      "cell_type": "markdown",
      "metadata": {
        "id": "9OQJE7juZzyI"
      },
      "source": [
        "### Target outputs are text labels"
      ]
    },
    {
      "cell_type": "code",
      "metadata": {
        "id": "ufxFMB6J8-53"
      },
      "source": [
        "pred_live = model_funct_2in_1out.predict([seq, test_voice], verbose=0)\n",
        "preds1=round(pred_live[0][0])\n",
        "labels=['Sad','Happy']\n",
        "PRED_LBL = preds1\n",
        "display(labels[PRED_LBL])\n",
        "display('Confidence Measurement: ' + str(pred_live[0][0]))"
      ],
      "execution_count": null,
      "outputs": []
    },
    {
      "cell_type": "markdown",
      "metadata": {
        "id": "k0UIR4Cs313w"
      },
      "source": [
        "### Using loaded model"
      ]
    },
    {
      "cell_type": "code",
      "metadata": {
        "colab": {
          "base_uri": "https://localhost:8080/",
          "height": 71
        },
        "id": "Uv9tzBEv31Vr",
        "outputId": "6af4c91f-93f6-4bb0-d7f2-1785113b77d5"
      },
      "source": [
        "pred_live = test_model.predict([seq, test_voice], verbose=0)\n",
        "preds1=np.argmax(pred_live)\n",
        "labels=['Sad','Happy']\n",
        "PRED_LBL = preds1\n",
        "display(labels[PRED_LBL])\n",
        "display('Sad Measurement: ' + str(pred_live[0][0]))\n",
        "display('Happy Measurement: ' + str(pred_live[0][1]))"
      ],
      "execution_count": 224,
      "outputs": [
        {
          "output_type": "display_data",
          "data": {
            "application/vnd.google.colaboratory.intrinsic+json": {
              "type": "string"
            },
            "text/plain": [
              "'Happy'"
            ]
          },
          "metadata": {
            "tags": []
          }
        },
        {
          "output_type": "display_data",
          "data": {
            "application/vnd.google.colaboratory.intrinsic+json": {
              "type": "string"
            },
            "text/plain": [
              "'Sad Measurement: 0.21709087'"
            ]
          },
          "metadata": {
            "tags": []
          }
        },
        {
          "output_type": "display_data",
          "data": {
            "application/vnd.google.colaboratory.intrinsic+json": {
              "type": "string"
            },
            "text/plain": [
              "'Happy Measurement: 0.7829091'"
            ]
          },
          "metadata": {
            "tags": []
          }
        }
      ]
    }
  ]
}